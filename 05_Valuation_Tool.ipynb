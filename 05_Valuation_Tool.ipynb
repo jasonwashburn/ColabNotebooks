{
  "nbformat": 4,
  "nbformat_minor": 0,
  "metadata": {
    "colab": {
      "name": "05 Valuation Tool.ipynb",
      "provenance": [],
      "authorship_tag": "ABX9TyOOVesjwZwlOg9KO65Kr9s8",
      "include_colab_link": true
    },
    "kernelspec": {
      "name": "python3",
      "display_name": "Python 3"
    },
    "language_info": {
      "name": "python"
    }
  },
  "cells": [
    {
      "cell_type": "markdown",
      "metadata": {
        "id": "view-in-github",
        "colab_type": "text"
      },
      "source": [
        "<a href=\"https://colab.research.google.com/github/jasonwashburn/ColabNotebooks/blob/main/05_Valuation_Tool.ipynb\" target=\"_parent\"><img src=\"https://colab.research.google.com/assets/colab-badge.svg\" alt=\"Open In Colab\"/></a>"
      ]
    },
    {
      "cell_type": "code",
      "metadata": {
        "id": "PzYFCaAPMAV7"
      },
      "source": [
        "from sklearn.datasets import load_boston\n",
        "from sklearn.linear_model import LinearRegression\n",
        "from sklearn.metrics import mean_squared_error\n",
        "\n",
        "import pandas as pd\n",
        "import numpy as np"
      ],
      "execution_count": 1,
      "outputs": []
    },
    {
      "cell_type": "code",
      "metadata": {
        "id": "Au27e2A2MNVZ"
      },
      "source": [
        "# Gather Data\n",
        "boston_dataset = load_boston()\n",
        "data = pd.DataFrame(data=boston_dataset.data, columns=boston_dataset.feature_names)\n",
        "features = data.drop(['INDUS', 'AGE'], axis=1)\n",
        "\n",
        "log_prices = np.log(boston_dataset.target)\n",
        "target = pd.DataFrame(log_prices, columns=['PRICE'])\n"
      ],
      "execution_count": 2,
      "outputs": []
    },
    {
      "cell_type": "code",
      "metadata": {
        "id": "tFf4b27pMaJq"
      },
      "source": [
        "CRIME_IDX = 0\n",
        "ZN_IDX = 1\n",
        "CHAS_IDX = 2\n",
        "RM_IDX = 4\n",
        "PTRATIO_IDX = 8\n",
        "\n",
        "# property_stats = np.ndarray(shape=(1, 11))\n",
        "# property_stats[0][CRIME_IDX] = features['CRIM'].mean()\n",
        "# property_stats[0][ZN_IDX] = features['ZN'].mean()\n",
        "# property_stats[0][CHAS_IDX] = features['CHAS'].mean()\n",
        "\n",
        "property_stats = features.mean().values.reshape(1,11)"
      ],
      "execution_count": 3,
      "outputs": []
    },
    {
      "cell_type": "code",
      "metadata": {
        "colab": {
          "base_uri": "https://localhost:8080/"
        },
        "id": "r1td0wHYNC_0",
        "outputId": "09867890-0b49-4730-d14e-107bf1e91dac"
      },
      "source": [
        "type(features.mean())"
      ],
      "execution_count": 4,
      "outputs": [
        {
          "output_type": "execute_result",
          "data": {
            "text/plain": [
              "pandas.core.series.Series"
            ]
          },
          "metadata": {
            "tags": []
          },
          "execution_count": 4
        }
      ]
    },
    {
      "cell_type": "code",
      "metadata": {
        "colab": {
          "base_uri": "https://localhost:8080/"
        },
        "id": "uZxGP1STOcja",
        "outputId": "20248e66-f141-42b6-8317-39d807e2cfdf"
      },
      "source": [
        "type(features.mean().values)"
      ],
      "execution_count": 5,
      "outputs": [
        {
          "output_type": "execute_result",
          "data": {
            "text/plain": [
              "numpy.ndarray"
            ]
          },
          "metadata": {
            "tags": []
          },
          "execution_count": 5
        }
      ]
    },
    {
      "cell_type": "code",
      "metadata": {
        "colab": {
          "base_uri": "https://localhost:8080/"
        },
        "id": "GZCC2zK_OfXJ",
        "outputId": "fdecc4e8-e91f-4f92-d02b-fbef91f7bd3c"
      },
      "source": [
        "features.mean().values.reshape(1,11)"
      ],
      "execution_count": 6,
      "outputs": [
        {
          "output_type": "execute_result",
          "data": {
            "text/plain": [
              "array([[3.61352356e+00, 1.13636364e+01, 6.91699605e-02, 5.54695059e-01,\n",
              "        6.28463439e+00, 3.79504269e+00, 9.54940711e+00, 4.08237154e+02,\n",
              "        1.84555336e+01, 3.56674032e+02, 1.26530632e+01]])"
            ]
          },
          "metadata": {
            "tags": []
          },
          "execution_count": 6
        }
      ]
    },
    {
      "cell_type": "code",
      "metadata": {
        "id": "vRnQv__fOhkY"
      },
      "source": [
        "regr = LinearRegression().fit(features, target)\n",
        "fitted_vals = regr.predict(features)\n",
        "\n",
        "MSE = mean_squared_error(target, fitted_vals)\n",
        "RMSE = np.sqrt(MSE)"
      ],
      "execution_count": 7,
      "outputs": []
    },
    {
      "cell_type": "code",
      "metadata": {
        "id": "dz819HDiPBTM"
      },
      "source": [
        "def get_log_estimate(nr_rooms,\n",
        "                     students_per_classroom,\n",
        "                     next_to_river=False,\n",
        "                     high_confidence=True):\n",
        "    \n",
        "    # Configure property\n",
        "    property_stats[0][RM_IDX] = nr_rooms\n",
        "    property_stats[0][PTRATIO_IDX] = students_per_classroom\n",
        "\n",
        "    if next_to_river:\n",
        "        property_stats[0][CHAS_IDX] = 1\n",
        "    else:\n",
        "        property_stats[0][CHAS_IDX] = 0\n",
        "\n",
        "    # Make prediction\n",
        "    log_estimate = regr.predict(property_stats)[0][0]\n",
        "\n",
        "    # Calc Range\n",
        "    if high_confidence:\n",
        "        upper_bound = log_estimate + 2*RMSE\n",
        "        lower_bound = log_estimate - 2*RMSE\n",
        "        interval = 95\n",
        "    else:\n",
        "        upper_bound = log_estimate + RMSE\n",
        "        lower_bound = log_estimate - RMSE\n",
        "        interval = 68\n",
        "\n",
        "    return log_estimate, upper_bound, lower_bound, interval"
      ],
      "execution_count": 8,
      "outputs": []
    },
    {
      "cell_type": "code",
      "metadata": {
        "colab": {
          "base_uri": "https://localhost:8080/"
        },
        "id": "DXs0jGtNPQnE",
        "outputId": "f9e133ba-7bef-4f82-dae8-5328a372f94e"
      },
      "source": [
        "get_log_estimate(3, 20, next_to_river=True, high_confidence=False)"
      ],
      "execution_count": 9,
      "outputs": [
        {
          "output_type": "execute_result",
          "data": {
            "text/plain": [
              "(2.7767581914803987, 2.964270326677529, 2.5892460562832684, 68)"
            ]
          },
          "metadata": {
            "tags": []
          },
          "execution_count": 9
        }
      ]
    },
    {
      "cell_type": "code",
      "metadata": {
        "id": "29frsGzNP-xW",
        "colab": {
          "base_uri": "https://localhost:8080/"
        },
        "outputId": "12a5a7f3-6319-4929-ffd0-338f90197eb2"
      },
      "source": [
        "np.median(boston_dataset.target)"
      ],
      "execution_count": 10,
      "outputs": [
        {
          "output_type": "execute_result",
          "data": {
            "text/plain": [
              "21.2"
            ]
          },
          "metadata": {
            "tags": []
          },
          "execution_count": 10
        }
      ]
    },
    {
      "cell_type": "code",
      "metadata": {
        "colab": {
          "base_uri": "https://localhost:8080/"
        },
        "id": "P5aDLojhqWj-",
        "outputId": "ffdb479a-83d6-4dde-92c5-6a179b34f638"
      },
      "source": [
        "# Calculate values in today's dollars using the Zillow median price\n",
        "\n",
        "ZILLOW_MEDIAN_PRICE = 583.3\n",
        "SCALE_FACTOR = ZILLOW_MEDIAN_PRICE / np.median(boston_dataset.target)\n",
        "\n",
        "log_est, upper, lower, conf = get_log_estimate(9, students_per_classroom=15,\n",
        "                                               next_to_river=False,\n",
        "                                               high_confidence=False)\n",
        "\n",
        "# Convert to today's collars\n",
        "dollar_est = np.e**log_est * 1000 * SCALE_FACTOR\n",
        "dollar_hi = np.e**upper * 1000 * SCALE_FACTOR\n",
        "dollar_low = np.e**lower * 1000 * SCALE_FACTOR\n",
        "\n",
        "\n",
        "# Round the dollar values to nearest thousand\n",
        "rounded_est = np.around(dollar_est, -3)\n",
        "rounded_hi = np.around(dollar_hi, -3)\n",
        "rounded_low = np.around(dollar_low, -3)\n",
        "\n",
        "print(f\"The estimated property value is {rounded_est}.\")\n",
        "print(f\"At {conf}% confidence the valulation range is\")\n",
        "print(f\"USD {rounded_low} at the lower end to USD {rounded_hi} at the high end.\")"
      ],
      "execution_count": 18,
      "outputs": [
        {
          "output_type": "stream",
          "text": [
            "The estimated property value is 827000.0.\n",
            "At 68% confidence the valulation range is\n",
            "USD 685000.0 at the lower end to USD 997000.0 at the high end.\n"
          ],
          "name": "stdout"
        }
      ]
    },
    {
      "cell_type": "code",
      "metadata": {
        "id": "5nGMVX4tq6jd"
      },
      "source": [
        "def get_dollar_estimate(rm, ptratio, chas=False, large_range=True):\n",
        "    \"\"\"Estimate the price of a property in Boston.\n",
        "\n",
        "    Keyword arguments:\n",
        "    rm -- number of rooms int the property.\n",
        "    ptratio -- number of students per teacher in the classroom for the school in the area.\n",
        "    chas -- True if the property is next to the river, False otherwise.\n",
        "    large_range -- True for a 95% prediction interval, False for a 68% interval.\n",
        "\n",
        "    \"\"\"\n",
        "\n",
        "    if rm < 1 or ptratio < 1:\n",
        "        print('That is unrealistic. Try again.')\n",
        "        return\n",
        "\n",
        "    log_est, upper, lower, conf = get_log_estimate(rm, \n",
        "                                                   students_per_classroom=ptratio, \n",
        "                                                   next_to_river=chas,\n",
        "                                                   high_confidence=large_range)\n",
        "\n",
        "    # Convert to today's collars\n",
        "    dollar_est = np.e**log_est * 1000 * SCALE_FACTOR\n",
        "    dollar_hi = np.e**upper * 1000 * SCALE_FACTOR\n",
        "    dollar_low = np.e**lower * 1000 * SCALE_FACTOR\n",
        "\n",
        "\n",
        "    # Round the dollar values to nearest thousand\n",
        "    rounded_est = np.around(dollar_est, -3)\n",
        "    rounded_hi = np.around(dollar_hi, -3)\n",
        "    rounded_low = np.around(dollar_low, -3)\n",
        "\n",
        "    print(f\"The estimated property value is {rounded_est}.\")\n",
        "    print(f\"At {conf}% confidence the valulation range is\")\n",
        "    print(f\"USD {rounded_low} at the lower end to USD {rounded_hi} at the high end.\")"
      ],
      "execution_count": 32,
      "outputs": []
    },
    {
      "cell_type": "code",
      "metadata": {
        "colab": {
          "base_uri": "https://localhost:8080/"
        },
        "id": "PGJzRhmYto7O",
        "outputId": "1a14d8e2-a28b-4a3a-9131-fd729281802a"
      },
      "source": [
        "get_dollar_estimate(rm=3, ptratio=0, chas=True)"
      ],
      "execution_count": 30,
      "outputs": [
        {
          "output_type": "stream",
          "text": [
            "That is unrealistic. Try again.\n"
          ],
          "name": "stdout"
        }
      ]
    },
    {
      "cell_type": "code",
      "metadata": {
        "id": "NLbb865sttaB"
      },
      "source": [
        ""
      ],
      "execution_count": null,
      "outputs": []
    }
  ]
}