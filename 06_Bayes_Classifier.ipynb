{
 "nbformat": 4,
 "nbformat_minor": 0,
 "metadata": {
  "colab": {
   "name": "06 Bayes Classifier.ipynb",
   "provenance": [],
   "mount_file_id": "1BI41MbZxYYOIZa8xhvaSkyhaOPEf7WLj",
   "authorship_tag": "ABX9TyOMobP8yLZGDIRDaoPHArrB",
   "include_colab_link": true
  },
  "kernelspec": {
   "name": "python3",
   "language": "python",
   "display_name": "Python 3"
  },
  "language_info": {
   "name": "python",
   "version": "3.9.2"
  },
  "metadata": {
   "interpreter": {
    "hash": "a202be08c1431dc0c520f793eb4568e18a10d720d9700eef727c34882804bcbe"
   }
  }
 },
 "cells": [
  {
   "cell_type": "markdown",
   "metadata": {
    "id": "CM3MLclk76Bo"
   },
   "source": [
    "# File Setup"
   ]
  },
  {
   "cell_type": "code",
   "metadata": {
    "id": "_OEGwMg57-AR"
   },
   "source": [
    "!cp \"/content/drive/MyDrive/Colab Notebooks/SpamData.zip\" ./\n",
    "!unzip SpamData > unzip.log"
   ],
   "execution_count": 12,
   "outputs": [
    {
     "name": "stdout",
     "output_type": "stream",
     "text": [
      "cp: /content/drive/MyDrive/Colab Notebooks/SpamData.zip: No such file or directory\r\n",
      "unzip:  cannot find or open SpamData, SpamData.zip or SpamData.ZIP.\r\n"
     ]
    }
   ]
  },
  {
   "cell_type": "markdown",
   "metadata": {
    "id": "oeNjsi6Ay8DP"
   },
   "source": [
    "# Imports"
   ]
  },
  {
   "cell_type": "code",
   "metadata": {
    "id": "OvuRyt0ezBdt"
   },
   "source": [
    "from os import walk\n",
    "from os.path import join\n",
    "import pandas as pd\n",
    "\n",
    "import matplotlib.pyplot as plt\n",
    "\n",
    "import nltk\n",
    "from nltk.stem import PorterStemmer\n",
    "from nltk.corpus import stopwords\n",
    "from nltk.tokenize import word_tokenize\n",
    "\n",
    "from bs4 import BeautifulSoup\n",
    "from wordcloud import WordCloud\n",
    "from PIL import Image\n",
    "\n",
    "%matplotlib inline"
   ],
   "execution_count": 13,
   "outputs": []
  },
  {
   "cell_type": "markdown",
   "metadata": {
    "id": "F8n0lWpJArmR"
   },
   "source": [
    "## Constants"
   ]
  },
  {
   "cell_type": "code",
   "metadata": {
    "id": "vAsdpV4I0ZNb"
   },
   "source": [
    "EXAMPLE_FILE = \"SpamData/01_Processing/practice_email.txt\"\n",
    "\n",
    "SPAM_1_PATH = \"SpamData/01_Processing/spam_assassin_corpus/spam_1\"\n",
    "SPAM_2_PATH = \"SpamData/01_Processing/spam_assassin_corpus/spam_2\"\n",
    "EASY_NONSPAM_1_PATH = \"SpamData/01_Processing/spam_assassin_corpus/easy_ham_1\"\n",
    "EASY_NONSPAM_2_PATH = \"SpamData/01_Processing/spam_assassin_corpus/easy_ham_2\"\n",
    "\n",
    "SPAM_CAT = 1\n",
    "HAM_CAT = 0\n",
    "\n",
    "DATA_JSON_FILE = \"SpamData/01_Processing/email-text-data.json\"\n",
    "\n",
    "WHALE_FILE = \"SpamData/01_Processing/wordcloud_resources/whale-icon.png\""
   ],
   "execution_count": 14,
   "outputs": []
  },
  {
   "cell_type": "code",
   "metadata": {
    "colab": {
     "base_uri": "https://localhost:8080/"
    },
    "id": "akPNtg5I1mv7",
    "outputId": "9c1a7845-2785-48b7-d026-eb8f42cb95ac"
   },
   "source": [
    "print(SPAM_1_PATH)"
   ],
   "execution_count": 15,
   "outputs": [
    {
     "name": "stdout",
     "output_type": "stream",
     "text": [
      "SpamData/01_Processing/spam_assassin_corpus/spam_1\n"
     ]
    }
   ]
  },
  {
   "cell_type": "markdown",
   "metadata": {
    "id": "WRFNd_2WA8cY"
   },
   "source": [
    "## Reading Files"
   ]
  },
  {
   "cell_type": "code",
   "metadata": {
    "colab": {
     "base_uri": "https://localhost:8080/"
    },
    "id": "NUJn8YaXA_L8",
    "outputId": "e31958e9-f187-4e3b-e93d-657cd6fa340a"
   },
   "source": [
    "stream = open(EXAMPLE_FILE, encoding='latin-1')\n",
    "message = stream.read()\n",
    "stream.close()\n",
    "\n",
    "print(message)"
   ],
   "execution_count": 16,
   "outputs": [
    {
     "name": "stdout",
     "output_type": "stream",
     "text": [
      "From exmh-workers-admin@redhat.com  Thu Aug 22 12:36:23 2002\n",
      "Return-Path: <exmh-workers-admin@spamassassin.taint.org>\n",
      "Delivered-To: zzzz@localhost.netnoteinc.com\n",
      "Received: from localhost (localhost [127.0.0.1])\n",
      "\tby phobos.labs.netnoteinc.com (Postfix) with ESMTP id D03E543C36\n",
      "\tfor <zzzz@localhost>; Thu, 22 Aug 2002 07:36:16 -0400 (EDT)\n",
      "Received: from phobos [127.0.0.1]\n",
      "\tby localhost with IMAP (fetchmail-5.9.0)\n",
      "\tfor zzzz@localhost (single-drop); Thu, 22 Aug 2002 12:36:16 +0100 (IST)\n",
      "Received: from listman.spamassassin.taint.org (listman.spamassassin.taint.org [66.187.233.211]) by\n",
      "    dogma.slashnull.org (8.11.6/8.11.6) with ESMTP id g7MBYrZ04811 for\n",
      "    <zzzz-exmh@spamassassin.taint.org>; Thu, 22 Aug 2002 12:34:53 +0100\n",
      "Received: from listman.spamassassin.taint.org (localhost.localdomain [127.0.0.1]) by\n",
      "    listman.redhat.com (Postfix) with ESMTP id 8386540858; Thu, 22 Aug 2002\n",
      "    07:35:02 -0400 (EDT)\n",
      "Delivered-To: exmh-workers@listman.spamassassin.taint.org\n",
      "Received: from int-mx1.corp.spamassassin.taint.org (int-mx1.corp.spamassassin.taint.org\n",
      "    [172.16.52.254]) by listman.redhat.com (Postfix) with ESMTP id 10CF8406D7\n",
      "    for <exmh-workers@listman.redhat.com>; Thu, 22 Aug 2002 07:34:10 -0400\n",
      "    (EDT)\n",
      "Received: (from mail@localhost) by int-mx1.corp.spamassassin.taint.org (8.11.6/8.11.6)\n",
      "    id g7MBY7g11259 for exmh-workers@listman.redhat.com; Thu, 22 Aug 2002\n",
      "    07:34:07 -0400\n",
      "Received: from mx1.spamassassin.taint.org (mx1.spamassassin.taint.org [172.16.48.31]) by\n",
      "    int-mx1.corp.redhat.com (8.11.6/8.11.6) with SMTP id g7MBY7Y11255 for\n",
      "    <exmh-workers@redhat.com>; Thu, 22 Aug 2002 07:34:07 -0400\n",
      "Received: from ratree.psu.ac.th ([202.28.97.6]) by mx1.spamassassin.taint.org\n",
      "    (8.11.6/8.11.6) with SMTP id g7MBIhl25223 for <exmh-workers@redhat.com>;\n",
      "    Thu, 22 Aug 2002 07:18:55 -0400\n",
      "Received: from delta.cs.mu.OZ.AU (delta.coe.psu.ac.th [172.30.0.98]) by\n",
      "    ratree.psu.ac.th (8.11.6/8.11.6) with ESMTP id g7MBWel29762;\n",
      "    Thu, 22 Aug 2002 18:32:40 +0700 (ICT)\n",
      "Received: from munnari.OZ.AU (localhost [127.0.0.1]) by delta.cs.mu.OZ.AU\n",
      "    (8.11.6/8.11.6) with ESMTP id g7MBQPW13260; Thu, 22 Aug 2002 18:26:25\n",
      "    +0700 (ICT)\n",
      "From: Robert Elz <kre@munnari.OZ.AU>\n",
      "To: Chris Garrigues <cwg-dated-1030377287.06fa6d@DeepEddy.Com>\n",
      "Cc: exmh-workers@spamassassin.taint.org\n",
      "Subject: Re: New Sequences Window\n",
      "In-Reply-To: <1029945287.4797.TMDA@deepeddy.vircio.com>\n",
      "References: <1029945287.4797.TMDA@deepeddy.vircio.com>\n",
      "    <1029882468.3116.TMDA@deepeddy.vircio.com> <9627.1029933001@munnari.OZ.AU>\n",
      "    <1029943066.26919.TMDA@deepeddy.vircio.com>\n",
      "    <1029944441.398.TMDA@deepeddy.vircio.com>\n",
      "MIME-Version: 1.0\n",
      "Content-Type: text/plain; charset=us-ascii\n",
      "Message-Id: <13258.1030015585@munnari.OZ.AU>\n",
      "X-Loop: exmh-workers@spamassassin.taint.org\n",
      "Sender: exmh-workers-admin@spamassassin.taint.org\n",
      "Errors-To: exmh-workers-admin@spamassassin.taint.org\n",
      "X-Beenthere: exmh-workers@spamassassin.taint.org\n",
      "X-Mailman-Version: 2.0.1\n",
      "Precedence: bulk\n",
      "List-Help: <mailto:exmh-workers-request@spamassassin.taint.org?subject=help>\n",
      "List-Post: <mailto:exmh-workers@spamassassin.taint.org>\n",
      "List-Subscribe: <https://listman.spamassassin.taint.org/mailman/listinfo/exmh-workers>,\n",
      "    <mailto:exmh-workers-request@redhat.com?subject=subscribe>\n",
      "List-Id: Discussion list for EXMH developers <exmh-workers.spamassassin.taint.org>\n",
      "List-Unsubscribe: <https://listman.spamassassin.taint.org/mailman/listinfo/exmh-workers>,\n",
      "    <mailto:exmh-workers-request@redhat.com?subject=unsubscribe>\n",
      "List-Archive: <https://listman.spamassassin.taint.org/mailman/private/exmh-workers/>\n",
      "Date: Thu, 22 Aug 2002 18:26:25 +0700\n",
      "\n",
      "\n",
      "Dear Mr Still\n",
      "\n",
      "Good tidings to you and all your staff for the festive season ahead (Christmas).\n",
      "Now to the crux of the matter-in-hand: I am a fully qualified Santa Claus and am wondering whether you might consider me to run my own \"Santa's Grotto\" in your store.\n",
      "But WAIT! You're probably thinking: \"What makes him so special?\"\n",
      "Well, first of all, I have made several changes to the characterisation of Father Christmas. Rather than greeting the children with shouts of \"Ho, ho, ho!\" I prefer to whisper the phrase \"Dependence is not unfathomable in this cruel world we live in\". In addition, my gifts are ALL hand-made, ranging from felt hoops to vanilla-pod holders.\n",
      "You will note also, from the enclosed sketch, that I have radically redesigned Santa's outfit and have renamed my character \"Lord Buckles\". Would you be interested in employing me? I promise NEVER to let you down.\n",
      "I look forward to hearing from you.\n",
      "\n",
      "Best wishes\n",
      "Robin Cooper\n",
      "[Excerpt from the book: The Timewaster Letters by Robin Cooper]\n",
      "\n"
     ]
    }
   ]
  },
  {
   "cell_type": "code",
   "metadata": {
    "colab": {
     "base_uri": "https://localhost:8080/",
     "height": 35
    },
    "id": "PfH_GuC8BQal",
    "outputId": "add23a63-08d3-4b1b-a1ef-1627b72cae23"
   },
   "source": [
    "import sys\n",
    "sys.getfilesystemencoding()"
   ],
   "execution_count": 17,
   "outputs": [
    {
     "data": {
      "text/plain": "'utf-8'"
     },
     "execution_count": 17,
     "metadata": {},
     "output_type": "execute_result"
    }
   ]
  },
  {
   "cell_type": "code",
   "metadata": {
    "id": "L6SvANySBS0y"
   },
   "source": [],
   "execution_count": 17,
   "outputs": []
  },
  {
   "cell_type": "code",
   "metadata": {
    "colab": {
     "base_uri": "https://localhost:8080/"
    },
    "id": "gjkj1BYgwdmY",
    "outputId": "94867470-8756-4c31-93e9-b6dd08509a83"
   },
   "source": [
    "stream = open(EXAMPLE_FILE, encoding='latin-1')\n",
    "\n",
    "is_body = False\n",
    "lines = []\n",
    "\n",
    "for line in stream:\n",
    "    if is_body:\n",
    "        lines.append(line)\n",
    "    elif line == \"\\n\":\n",
    "        is_body = True\n",
    "\n",
    "stream.close()\n",
    "\n",
    "email_body = \"\\n\".join(lines)\n",
    "print(email_body)\n",
    "\n",
    "print(lines)"
   ],
   "execution_count": 18,
   "outputs": [
    {
     "name": "stdout",
     "output_type": "stream",
     "text": [
      "\n",
      "\n",
      "Dear Mr Still\n",
      "\n",
      "\n",
      "\n",
      "Good tidings to you and all your staff for the festive season ahead (Christmas).\n",
      "\n",
      "Now to the crux of the matter-in-hand: I am a fully qualified Santa Claus and am wondering whether you might consider me to run my own \"Santa's Grotto\" in your store.\n",
      "\n",
      "But WAIT! You're probably thinking: \"What makes him so special?\"\n",
      "\n",
      "Well, first of all, I have made several changes to the characterisation of Father Christmas. Rather than greeting the children with shouts of \"Ho, ho, ho!\" I prefer to whisper the phrase \"Dependence is not unfathomable in this cruel world we live in\". In addition, my gifts are ALL hand-made, ranging from felt hoops to vanilla-pod holders.\n",
      "\n",
      "You will note also, from the enclosed sketch, that I have radically redesigned Santa's outfit and have renamed my character \"Lord Buckles\". Would you be interested in employing me? I promise NEVER to let you down.\n",
      "\n",
      "I look forward to hearing from you.\n",
      "\n",
      "\n",
      "\n",
      "Best wishes\n",
      "\n",
      "Robin Cooper\n",
      "\n",
      "[Excerpt from the book: The Timewaster Letters by Robin Cooper]\n",
      "\n",
      "['\\n', 'Dear Mr Still\\n', '\\n', 'Good tidings to you and all your staff for the festive season ahead (Christmas).\\n', 'Now to the crux of the matter-in-hand: I am a fully qualified Santa Claus and am wondering whether you might consider me to run my own \"Santa\\'s Grotto\" in your store.\\n', 'But WAIT! You\\'re probably thinking: \"What makes him so special?\"\\n', 'Well, first of all, I have made several changes to the characterisation of Father Christmas. Rather than greeting the children with shouts of \"Ho, ho, ho!\" I prefer to whisper the phrase \"Dependence is not unfathomable in this cruel world we live in\". In addition, my gifts are ALL hand-made, ranging from felt hoops to vanilla-pod holders.\\n', 'You will note also, from the enclosed sketch, that I have radically redesigned Santa\\'s outfit and have renamed my character \"Lord Buckles\". Would you be interested in employing me? I promise NEVER to let you down.\\n', 'I look forward to hearing from you.\\n', '\\n', 'Best wishes\\n', 'Robin Cooper\\n', '[Excerpt from the book: The Timewaster Letters by Robin Cooper]\\n']\n"
     ]
    }
   ]
  },
  {
   "cell_type": "markdown",
   "metadata": {
    "id": "BEknL9d2BVyx"
   },
   "source": [
    "# Generator Functions"
   ]
  },
  {
   "cell_type": "code",
   "metadata": {
    "id": "k5xm1P_7xoMB"
   },
   "source": [
    "def generate_squares(N):\n",
    "    for my_number in range(N):\n",
    "        yield my_number ** 2"
   ],
   "execution_count": 19,
   "outputs": []
  },
  {
   "cell_type": "code",
   "metadata": {
    "colab": {
     "base_uri": "https://localhost:8080/"
    },
    "id": "dne9Epp6xxVK",
    "outputId": "654221c9-dfc5-4735-a180-81027b0f4155"
   },
   "source": [
    "for i in generate_squares(5):\n",
    "    print(i, end=' ->')"
   ],
   "execution_count": 20,
   "outputs": [
    {
     "name": "stdout",
     "output_type": "stream",
     "text": [
      "0 ->1 ->4 ->9 ->16 ->"
     ]
    }
   ]
  },
  {
   "cell_type": "markdown",
   "metadata": {
    "id": "gbXCEEuFx_ph"
   },
   "source": [
    "## Email body extraction"
   ]
  },
  {
   "cell_type": "code",
   "metadata": {
    "id": "_AfKRG-LyjcY"
   },
   "source": [
    "def email_body_generator(path):\n",
    "    \n",
    "    for root, dirnames, filenames in walk(path):\n",
    "\n",
    "        for file_name in filenames:\n",
    "\n",
    "            filepath = join(root, file_name)\n",
    "\n",
    "            stream = open(filepath, encoding='latin-1')\n",
    "\n",
    "            is_body = False\n",
    "            lines = []\n",
    "\n",
    "            for line in stream:\n",
    "                if is_body:\n",
    "                    lines.append(line)\n",
    "                elif line == \"\\n\":\n",
    "                    is_body = True\n",
    "\n",
    "            stream.close()\n",
    "\n",
    "            email_body = \"\\n\".join(lines)\n",
    "            \n",
    "            yield file_name, email_body"
   ],
   "execution_count": 21,
   "outputs": []
  },
  {
   "cell_type": "code",
   "metadata": {
    "id": "FuZnBYPc0BLS"
   },
   "source": [
    "def df_from_directory(path, classification):\n",
    "    rows = []\n",
    "    row_names = []\n",
    "    for file_name, email_body in email_body_generator(path):\n",
    "        rows.append({'MESSAGE': email_body, 'CATEGORY': classification})\n",
    "        row_names.append(file_name)\n",
    "    return pd.DataFrame(rows, index=row_names)"
   ],
   "execution_count": 22,
   "outputs": []
  },
  {
   "cell_type": "code",
   "metadata": {
    "colab": {
     "base_uri": "https://localhost:8080/",
     "height": 0
    },
    "id": "HrrgBiJf0xoi",
    "outputId": "742cc9bb-6df3-40fb-d9ee-31e0525599da"
   },
   "source": [
    "spam_emails = df_from_directory(SPAM_1_PATH, SPAM_CAT)\n",
    "spam_emails = spam_emails.append(df_from_directory(SPAM_2_PATH, SPAM_CAT))\n",
    "\n",
    "spam_emails.head()"
   ],
   "execution_count": 23,
   "outputs": [
    {
     "data": {
      "text/plain": "                                                                                  MESSAGE  \\\n00249.5f45607c1bffe89f60ba1ec9f878039a  Dear Homeowner,\\n\\n \\n\\nInterest Rates are at ...   \n00373.ebe8670ac56b04125c25100a36ab0510  ATTENTION: This is a MUST for ALL Computer Use...   \n00214.1367039e50dc6b7adb0f2aa8aba83216  This is a multi-part message in MIME format.\\n...   \n00210.050ffd105bd4e006771ee63cabc59978  IMPORTANT INFORMATION:\\n\\n\\n\\nThe new domain n...   \n00033.9babb58d9298daa2963d4f514193d7d6  This is the bottom line.  If you can GIVE AWAY...   \n\n                                        CATEGORY  \n00249.5f45607c1bffe89f60ba1ec9f878039a         1  \n00373.ebe8670ac56b04125c25100a36ab0510         1  \n00214.1367039e50dc6b7adb0f2aa8aba83216         1  \n00210.050ffd105bd4e006771ee63cabc59978         1  \n00033.9babb58d9298daa2963d4f514193d7d6         1  ",
      "text/html": "<div>\n<style scoped>\n    .dataframe tbody tr th:only-of-type {\n        vertical-align: middle;\n    }\n\n    .dataframe tbody tr th {\n        vertical-align: top;\n    }\n\n    .dataframe thead th {\n        text-align: right;\n    }\n</style>\n<table border=\"1\" class=\"dataframe\">\n  <thead>\n    <tr style=\"text-align: right;\">\n      <th></th>\n      <th>MESSAGE</th>\n      <th>CATEGORY</th>\n    </tr>\n  </thead>\n  <tbody>\n    <tr>\n      <th>00249.5f45607c1bffe89f60ba1ec9f878039a</th>\n      <td>Dear Homeowner,\\n\\n \\n\\nInterest Rates are at ...</td>\n      <td>1</td>\n    </tr>\n    <tr>\n      <th>00373.ebe8670ac56b04125c25100a36ab0510</th>\n      <td>ATTENTION: This is a MUST for ALL Computer Use...</td>\n      <td>1</td>\n    </tr>\n    <tr>\n      <th>00214.1367039e50dc6b7adb0f2aa8aba83216</th>\n      <td>This is a multi-part message in MIME format.\\n...</td>\n      <td>1</td>\n    </tr>\n    <tr>\n      <th>00210.050ffd105bd4e006771ee63cabc59978</th>\n      <td>IMPORTANT INFORMATION:\\n\\n\\n\\nThe new domain n...</td>\n      <td>1</td>\n    </tr>\n    <tr>\n      <th>00033.9babb58d9298daa2963d4f514193d7d6</th>\n      <td>This is the bottom line.  If you can GIVE AWAY...</td>\n      <td>1</td>\n    </tr>\n  </tbody>\n</table>\n</div>"
     },
     "execution_count": 23,
     "metadata": {},
     "output_type": "execute_result"
    }
   ]
  },
  {
   "cell_type": "code",
   "metadata": {
    "colab": {
     "base_uri": "https://localhost:8080/"
    },
    "id": "FUX_Mnfe1hTP",
    "outputId": "8e74f170-117a-477e-82af-0e9bee020941"
   },
   "source": [
    "spam_emails.shape"
   ],
   "execution_count": 24,
   "outputs": [
    {
     "data": {
      "text/plain": "(1898, 2)"
     },
     "execution_count": 24,
     "metadata": {},
     "output_type": "execute_result"
    }
   ]
  },
  {
   "cell_type": "code",
   "metadata": {
    "colab": {
     "base_uri": "https://localhost:8080/",
     "height": 0
    },
    "id": "5jWNU3tO2LqV",
    "outputId": "981ffab9-d937-44d0-c678-f56ef4513298"
   },
   "source": [
    "ham_emails = df_from_directory(EASY_NONSPAM_1_PATH, HAM_CAT)\n",
    "ham_emails = ham_emails.append(df_from_directory(EASY_NONSPAM_2_PATH, HAM_CAT))\n",
    "\n",
    "ham_emails.head()"
   ],
   "execution_count": 25,
   "outputs": [
    {
     "data": {
      "text/plain": "                                                                                  MESSAGE  \\\n00769.25bf9a767b5db0ed93f03c1637281663  \\n\\nIn a message dated 9/24/2002 11:24:58 AM, ...   \n01074.8590d61ac0aeeadb58dc2f2ba776c406  Hiya, I always seem to get errors when I do an...   \n02479.14365bcad3a60fcf24c5c1813f6291fb  \\n\\nI don't know how one can expect better and...   \n01417.ce7b07a2114218dbac682b599785820d  Tim Peters wrote:\\n\\n> I've run no experiments...   \n00357.d559b71616f64ba1d1c1e61a03644fd4  At 10:34 AM -0700 on 8/28/02, Jim Whitehead wr...   \n\n                                        CATEGORY  \n00769.25bf9a767b5db0ed93f03c1637281663         0  \n01074.8590d61ac0aeeadb58dc2f2ba776c406         0  \n02479.14365bcad3a60fcf24c5c1813f6291fb         0  \n01417.ce7b07a2114218dbac682b599785820d         0  \n00357.d559b71616f64ba1d1c1e61a03644fd4         0  ",
      "text/html": "<div>\n<style scoped>\n    .dataframe tbody tr th:only-of-type {\n        vertical-align: middle;\n    }\n\n    .dataframe tbody tr th {\n        vertical-align: top;\n    }\n\n    .dataframe thead th {\n        text-align: right;\n    }\n</style>\n<table border=\"1\" class=\"dataframe\">\n  <thead>\n    <tr style=\"text-align: right;\">\n      <th></th>\n      <th>MESSAGE</th>\n      <th>CATEGORY</th>\n    </tr>\n  </thead>\n  <tbody>\n    <tr>\n      <th>00769.25bf9a767b5db0ed93f03c1637281663</th>\n      <td>\\n\\nIn a message dated 9/24/2002 11:24:58 AM, ...</td>\n      <td>0</td>\n    </tr>\n    <tr>\n      <th>01074.8590d61ac0aeeadb58dc2f2ba776c406</th>\n      <td>Hiya, I always seem to get errors when I do an...</td>\n      <td>0</td>\n    </tr>\n    <tr>\n      <th>02479.14365bcad3a60fcf24c5c1813f6291fb</th>\n      <td>\\n\\nI don't know how one can expect better and...</td>\n      <td>0</td>\n    </tr>\n    <tr>\n      <th>01417.ce7b07a2114218dbac682b599785820d</th>\n      <td>Tim Peters wrote:\\n\\n&gt; I've run no experiments...</td>\n      <td>0</td>\n    </tr>\n    <tr>\n      <th>00357.d559b71616f64ba1d1c1e61a03644fd4</th>\n      <td>At 10:34 AM -0700 on 8/28/02, Jim Whitehead wr...</td>\n      <td>0</td>\n    </tr>\n  </tbody>\n</table>\n</div>"
     },
     "execution_count": 25,
     "metadata": {},
     "output_type": "execute_result"
    }
   ]
  },
  {
   "cell_type": "code",
   "metadata": {
    "colab": {
     "base_uri": "https://localhost:8080/"
    },
    "id": "3bf10YZc2VXb",
    "outputId": "375bb444-875c-4ceb-db2d-da986bc75d29"
   },
   "source": [
    "ham_emails.shape"
   ],
   "execution_count": 26,
   "outputs": [
    {
     "data": {
      "text/plain": "(3901, 2)"
     },
     "execution_count": 26,
     "metadata": {},
     "output_type": "execute_result"
    }
   ]
  },
  {
   "cell_type": "code",
   "metadata": {
    "colab": {
     "base_uri": "https://localhost:8080/",
     "height": 0
    },
    "id": "jydJiDST-979",
    "outputId": "fcc8a917-f5c3-4bdb-cc6a-a597b4c3c86c"
   },
   "source": [
    "data = pd.concat([spam_emails, ham_emails])\n",
    "print(\"Shape of entire dataframe is \", data.shape)\n",
    "data.head()"
   ],
   "execution_count": 27,
   "outputs": [
    {
     "name": "stdout",
     "output_type": "stream",
     "text": [
      "Shape of entire dataframe is  (5799, 2)\n"
     ]
    },
    {
     "data": {
      "text/plain": "                                                                                  MESSAGE  \\\n00249.5f45607c1bffe89f60ba1ec9f878039a  Dear Homeowner,\\n\\n \\n\\nInterest Rates are at ...   \n00373.ebe8670ac56b04125c25100a36ab0510  ATTENTION: This is a MUST for ALL Computer Use...   \n00214.1367039e50dc6b7adb0f2aa8aba83216  This is a multi-part message in MIME format.\\n...   \n00210.050ffd105bd4e006771ee63cabc59978  IMPORTANT INFORMATION:\\n\\n\\n\\nThe new domain n...   \n00033.9babb58d9298daa2963d4f514193d7d6  This is the bottom line.  If you can GIVE AWAY...   \n\n                                        CATEGORY  \n00249.5f45607c1bffe89f60ba1ec9f878039a         1  \n00373.ebe8670ac56b04125c25100a36ab0510         1  \n00214.1367039e50dc6b7adb0f2aa8aba83216         1  \n00210.050ffd105bd4e006771ee63cabc59978         1  \n00033.9babb58d9298daa2963d4f514193d7d6         1  ",
      "text/html": "<div>\n<style scoped>\n    .dataframe tbody tr th:only-of-type {\n        vertical-align: middle;\n    }\n\n    .dataframe tbody tr th {\n        vertical-align: top;\n    }\n\n    .dataframe thead th {\n        text-align: right;\n    }\n</style>\n<table border=\"1\" class=\"dataframe\">\n  <thead>\n    <tr style=\"text-align: right;\">\n      <th></th>\n      <th>MESSAGE</th>\n      <th>CATEGORY</th>\n    </tr>\n  </thead>\n  <tbody>\n    <tr>\n      <th>00249.5f45607c1bffe89f60ba1ec9f878039a</th>\n      <td>Dear Homeowner,\\n\\n \\n\\nInterest Rates are at ...</td>\n      <td>1</td>\n    </tr>\n    <tr>\n      <th>00373.ebe8670ac56b04125c25100a36ab0510</th>\n      <td>ATTENTION: This is a MUST for ALL Computer Use...</td>\n      <td>1</td>\n    </tr>\n    <tr>\n      <th>00214.1367039e50dc6b7adb0f2aa8aba83216</th>\n      <td>This is a multi-part message in MIME format.\\n...</td>\n      <td>1</td>\n    </tr>\n    <tr>\n      <th>00210.050ffd105bd4e006771ee63cabc59978</th>\n      <td>IMPORTANT INFORMATION:\\n\\n\\n\\nThe new domain n...</td>\n      <td>1</td>\n    </tr>\n    <tr>\n      <th>00033.9babb58d9298daa2963d4f514193d7d6</th>\n      <td>This is the bottom line.  If you can GIVE AWAY...</td>\n      <td>1</td>\n    </tr>\n  </tbody>\n</table>\n</div>"
     },
     "execution_count": 27,
     "metadata": {},
     "output_type": "execute_result"
    }
   ]
  },
  {
   "cell_type": "markdown",
   "metadata": {
    "id": "JaUPfG4H_ZiE"
   },
   "source": [
    "# Data Cleaning: Checking for Missing Values"
   ]
  },
  {
   "cell_type": "code",
   "metadata": {
    "colab": {
     "base_uri": "https://localhost:8080/"
    },
    "id": "sYQoaSCi_h2p",
    "outputId": "ce867886-1db7-4736-dfc5-1b55785332ab"
   },
   "source": [
    "# check if any message bodies are null\n",
    "data['MESSAGE'].isnull().values.any()"
   ],
   "execution_count": 28,
   "outputs": [
    {
     "data": {
      "text/plain": "False"
     },
     "execution_count": 28,
     "metadata": {},
     "output_type": "execute_result"
    }
   ]
  },
  {
   "cell_type": "code",
   "metadata": {
    "colab": {
     "base_uri": "https://localhost:8080/"
    },
    "id": "0jmBvl60Af-Q",
    "outputId": "18da3686-3041-47c3-cefe-97ac21b299cb"
   },
   "source": [
    "# check if there are empty emails (string length zero)\n",
    "(data.MESSAGE.str.len() == 0).any()"
   ],
   "execution_count": 29,
   "outputs": [
    {
     "data": {
      "text/plain": "True"
     },
     "execution_count": 29,
     "metadata": {},
     "output_type": "execute_result"
    }
   ]
  },
  {
   "cell_type": "code",
   "metadata": {
    "colab": {
     "base_uri": "https://localhost:8080/"
    },
    "id": "XXSoyWUh925u",
    "outputId": "cf5aca4f-c1a8-446b-f53d-52ea9bf7de68"
   },
   "source": [
    "(data.MESSAGE.str.len() == 0).sum()"
   ],
   "execution_count": 30,
   "outputs": [
    {
     "data": {
      "text/plain": "3"
     },
     "execution_count": 30,
     "metadata": {},
     "output_type": "execute_result"
    }
   ]
  },
  {
   "cell_type": "markdown",
   "metadata": {
    "id": "cp19uXAQ9_Kg"
   },
   "source": [
    "### Locate empty emails"
   ]
  },
  {
   "cell_type": "code",
   "metadata": {
    "colab": {
     "base_uri": "https://localhost:8080/"
    },
    "id": "NIDlNVwF-RZv",
    "outputId": "fbb3c8fc-9001-4dc8-e8a0-0b2f91f60e78"
   },
   "source": [
    "data[data.MESSAGE.str.len() == 0].index"
   ],
   "execution_count": 31,
   "outputs": [
    {
     "data": {
      "text/plain": "Index(['cmds', 'cmds', 'cmds'], dtype='object')"
     },
     "execution_count": 31,
     "metadata": {},
     "output_type": "execute_result"
    }
   ]
  },
  {
   "cell_type": "code",
   "metadata": {
    "colab": {
     "base_uri": "https://localhost:8080/"
    },
    "id": "AQG_7x81-ZZv",
    "outputId": "0804a013-d6e3-42b2-bdbf-fc62ef7e98a9"
   },
   "source": [
    "data.index.get_loc('cmds')"
   ],
   "execution_count": 32,
   "outputs": [
    {
     "data": {
      "text/plain": "array([False, False, False, ..., False, False, False])"
     },
     "execution_count": 32,
     "metadata": {},
     "output_type": "execute_result"
    }
   ]
  },
  {
   "cell_type": "markdown",
   "metadata": {
    "id": "Bfc_M79k-9ca"
   },
   "source": [
    "# Remove System File Entries from Dataframe"
   ]
  },
  {
   "cell_type": "code",
   "metadata": {
    "id": "b3DIbRaV_Ub7"
   },
   "source": [
    "data.drop(['cmds'], inplace=True)"
   ],
   "execution_count": 33,
   "outputs": []
  },
  {
   "cell_type": "code",
   "metadata": {
    "colab": {
     "base_uri": "https://localhost:8080/"
    },
    "id": "vDwLWstX_gj2",
    "outputId": "302671de-c1f1-44d5-993a-14b9fcf5f5de"
   },
   "source": [
    "data.shape"
   ],
   "execution_count": 34,
   "outputs": [
    {
     "data": {
      "text/plain": "(5796, 2)"
     },
     "execution_count": 34,
     "metadata": {},
     "output_type": "execute_result"
    }
   ]
  },
  {
   "cell_type": "markdown",
   "metadata": {
    "id": "nKaDWhNH_pM5"
   },
   "source": [
    "# Add Document IDs to Track Emails in Dataset"
   ]
  },
  {
   "cell_type": "code",
   "metadata": {
    "id": "JZ6qqbNL_i3H"
   },
   "source": [
    "document_ids = range(0, len(data.index))\n",
    "data['DOC_ID'] = document_ids"
   ],
   "execution_count": 35,
   "outputs": []
  },
  {
   "cell_type": "code",
   "metadata": {
    "colab": {
     "base_uri": "https://localhost:8080/",
     "height": 235
    },
    "id": "072rfAKY_zh0",
    "outputId": "45e8b764-ea77-4813-9c50-b1e61df70cb6"
   },
   "source": [
    "data['FILE_NAME'] = data.index\n",
    "data.set_index('DOC_ID', inplace=True)\n",
    "data.head()"
   ],
   "execution_count": 36,
   "outputs": [
    {
     "data": {
      "text/plain": "                                                  MESSAGE  CATEGORY  \\\nDOC_ID                                                                \n0       Dear Homeowner,\\n\\n \\n\\nInterest Rates are at ...         1   \n1       ATTENTION: This is a MUST for ALL Computer Use...         1   \n2       This is a multi-part message in MIME format.\\n...         1   \n3       IMPORTANT INFORMATION:\\n\\n\\n\\nThe new domain n...         1   \n4       This is the bottom line.  If you can GIVE AWAY...         1   \n\n                                     FILE_NAME  \nDOC_ID                                          \n0       00249.5f45607c1bffe89f60ba1ec9f878039a  \n1       00373.ebe8670ac56b04125c25100a36ab0510  \n2       00214.1367039e50dc6b7adb0f2aa8aba83216  \n3       00210.050ffd105bd4e006771ee63cabc59978  \n4       00033.9babb58d9298daa2963d4f514193d7d6  ",
      "text/html": "<div>\n<style scoped>\n    .dataframe tbody tr th:only-of-type {\n        vertical-align: middle;\n    }\n\n    .dataframe tbody tr th {\n        vertical-align: top;\n    }\n\n    .dataframe thead th {\n        text-align: right;\n    }\n</style>\n<table border=\"1\" class=\"dataframe\">\n  <thead>\n    <tr style=\"text-align: right;\">\n      <th></th>\n      <th>MESSAGE</th>\n      <th>CATEGORY</th>\n      <th>FILE_NAME</th>\n    </tr>\n    <tr>\n      <th>DOC_ID</th>\n      <th></th>\n      <th></th>\n      <th></th>\n    </tr>\n  </thead>\n  <tbody>\n    <tr>\n      <th>0</th>\n      <td>Dear Homeowner,\\n\\n \\n\\nInterest Rates are at ...</td>\n      <td>1</td>\n      <td>00249.5f45607c1bffe89f60ba1ec9f878039a</td>\n    </tr>\n    <tr>\n      <th>1</th>\n      <td>ATTENTION: This is a MUST for ALL Computer Use...</td>\n      <td>1</td>\n      <td>00373.ebe8670ac56b04125c25100a36ab0510</td>\n    </tr>\n    <tr>\n      <th>2</th>\n      <td>This is a multi-part message in MIME format.\\n...</td>\n      <td>1</td>\n      <td>00214.1367039e50dc6b7adb0f2aa8aba83216</td>\n    </tr>\n    <tr>\n      <th>3</th>\n      <td>IMPORTANT INFORMATION:\\n\\n\\n\\nThe new domain n...</td>\n      <td>1</td>\n      <td>00210.050ffd105bd4e006771ee63cabc59978</td>\n    </tr>\n    <tr>\n      <th>4</th>\n      <td>This is the bottom line.  If you can GIVE AWAY...</td>\n      <td>1</td>\n      <td>00033.9babb58d9298daa2963d4f514193d7d6</td>\n    </tr>\n  </tbody>\n</table>\n</div>"
     },
     "execution_count": 36,
     "metadata": {},
     "output_type": "execute_result"
    }
   ]
  },
  {
   "cell_type": "code",
   "metadata": {
    "colab": {
     "base_uri": "https://localhost:8080/",
     "height": 235
    },
    "id": "T2PQFYD4_6M1",
    "outputId": "46bfe809-f67b-4c82-f6f8-470478dc661c"
   },
   "source": [
    "data.tail()"
   ],
   "execution_count": 37,
   "outputs": [
    {
     "data": {
      "text/plain": "                                                  MESSAGE  CATEGORY  \\\nDOC_ID                                                                \n5791    I'm one of the 30,000 but it's not working ver...         0   \n5792    Damien Morton quoted:\\n\\n>W3C approves HTML 4 ...         0   \n5793    On Mon, 2002-07-22 at 06:50, che wrote:\\n\\n\\n\\...         0   \n5794    Once upon a time, Manfred wrote :\\n\\n\\n\\n> I w...         0   \n5795    If you run Pick, and then use the \"New FTOC\" b...         0   \n\n                                     FILE_NAME  \nDOC_ID                                          \n5791    00609.dd49926ce94a1ea328cce9b62825bc97  \n5792    00957.e0b56b117f3ec5f85e432a9d2a47801f  \n5793    01127.841233b48eceb74a825417d8d918abf8  \n5794    01178.5c977dff972cd6eef64d4173b90307f0  \n5795    00747.352d424267d36975a7b40b85ffd0885e  ",
      "text/html": "<div>\n<style scoped>\n    .dataframe tbody tr th:only-of-type {\n        vertical-align: middle;\n    }\n\n    .dataframe tbody tr th {\n        vertical-align: top;\n    }\n\n    .dataframe thead th {\n        text-align: right;\n    }\n</style>\n<table border=\"1\" class=\"dataframe\">\n  <thead>\n    <tr style=\"text-align: right;\">\n      <th></th>\n      <th>MESSAGE</th>\n      <th>CATEGORY</th>\n      <th>FILE_NAME</th>\n    </tr>\n    <tr>\n      <th>DOC_ID</th>\n      <th></th>\n      <th></th>\n      <th></th>\n    </tr>\n  </thead>\n  <tbody>\n    <tr>\n      <th>5791</th>\n      <td>I'm one of the 30,000 but it's not working ver...</td>\n      <td>0</td>\n      <td>00609.dd49926ce94a1ea328cce9b62825bc97</td>\n    </tr>\n    <tr>\n      <th>5792</th>\n      <td>Damien Morton quoted:\\n\\n&gt;W3C approves HTML 4 ...</td>\n      <td>0</td>\n      <td>00957.e0b56b117f3ec5f85e432a9d2a47801f</td>\n    </tr>\n    <tr>\n      <th>5793</th>\n      <td>On Mon, 2002-07-22 at 06:50, che wrote:\\n\\n\\n\\...</td>\n      <td>0</td>\n      <td>01127.841233b48eceb74a825417d8d918abf8</td>\n    </tr>\n    <tr>\n      <th>5794</th>\n      <td>Once upon a time, Manfred wrote :\\n\\n\\n\\n&gt; I w...</td>\n      <td>0</td>\n      <td>01178.5c977dff972cd6eef64d4173b90307f0</td>\n    </tr>\n    <tr>\n      <th>5795</th>\n      <td>If you run Pick, and then use the \"New FTOC\" b...</td>\n      <td>0</td>\n      <td>00747.352d424267d36975a7b40b85ffd0885e</td>\n    </tr>\n  </tbody>\n</table>\n</div>"
     },
     "execution_count": 37,
     "metadata": {},
     "output_type": "execute_result"
    }
   ]
  },
  {
   "cell_type": "markdown",
   "metadata": {
    "id": "uW37wrSKAUo4"
   },
   "source": [
    "# Save to File using Pandas"
   ]
  },
  {
   "cell_type": "code",
   "metadata": {
    "id": "VowFu12uAqFL"
   },
   "source": [
    "data.to_json(DATA_JSON_FILE)"
   ],
   "execution_count": 38,
   "outputs": []
  },
  {
   "cell_type": "markdown",
   "metadata": {
    "id": "iTno5ySBA84-"
   },
   "source": [
    "# Number of Spam Messages Visualised (Pie Charts)"
   ]
  },
  {
   "cell_type": "code",
   "metadata": {
    "colab": {
     "base_uri": "https://localhost:8080/"
    },
    "id": "QAX6c6_cBsv-",
    "outputId": "306e701b-d186-4386-a61b-6589cb7d5532"
   },
   "source": [
    "data.CATEGORY.value_counts()"
   ],
   "execution_count": 39,
   "outputs": [
    {
     "data": {
      "text/plain": "0    3900\n1    1896\nName: CATEGORY, dtype: int64"
     },
     "execution_count": 39,
     "metadata": {},
     "output_type": "execute_result"
    }
   ]
  },
  {
   "cell_type": "code",
   "metadata": {
    "id": "hoi2H6s7Bu7F"
   },
   "source": [
    "amount_of_spam = data.CATEGORY.value_counts()[1]\n",
    "amount_of_ham = data.CATEGORY.value_counts()[0]"
   ],
   "execution_count": 40,
   "outputs": []
  },
  {
   "cell_type": "code",
   "metadata": {
    "colab": {
     "base_uri": "https://localhost:8080/",
     "height": 405
    },
    "id": "x4Aehm2cB585",
    "outputId": "61238aa3-d1cf-425c-80fd-c113647a7a22"
   },
   "source": [
    "category_names = ['Spam', \"Legit Mail\"]\n",
    "sizes = [amount_of_spam, amount_of_ham]\n",
    "\n",
    "plt.figure(figsize=(2,2), dpi=227)\n",
    "plt.pie(sizes, labels=category_names, textprops={'fontsize': 6}, startangle=90,\n",
    "        autopct='%1.0f%%')\n",
    "plt.show()"
   ],
   "execution_count": 41,
   "outputs": [
    {
     "data": {
      "text/plain": "<Figure size 454x454 with 1 Axes>",
      "image/png": "[encoded data removed]"
     },
     "metadata": {},
     "output_type": "display_data"
    }
   ]
  },
  {
   "cell_type": "code",
   "metadata": {
    "colab": {
     "base_uri": "https://localhost:8080/",
     "height": 405
    },
    "id": "RiPy9rKTCfY9",
    "outputId": "5ee25945-4bd9-411c-a562-f90c964563be"
   },
   "source": [
    "custom_colors=['#ff7675', '#74b9ff']\n",
    "\n",
    "plt.figure(figsize=(2,2), dpi=227)\n",
    "plt.pie(sizes, labels=category_names, textprops={'fontsize': 6}, startangle=90,\n",
    "        autopct='%1.0f%%', colors=custom_colors, explode=[0, 0.1])\n",
    "plt.show()"
   ],
   "execution_count": 42,
   "outputs": [
    {
     "data": {
      "text/plain": "<Figure size 454x454 with 1 Axes>",
      "image/png": "[encoded data removed]"
     },
     "metadata": {},
     "output_type": "display_data"
    }
   ]
  },
  {
   "cell_type": "code",
   "metadata": {
    "colab": {
     "base_uri": "https://localhost:8080/",
     "height": 405
    },
    "id": "0TV85ThCD0vQ",
    "outputId": "c08a4315-4c32-4079-fc61-f603ce3b4844"
   },
   "source": [
    "plt.figure(figsize=(2,2), dpi=227)\n",
    "plt.pie(sizes, labels=category_names, textprops={'fontsize': 6}, startangle=90,\n",
    "        autopct='%1.0f%%', colors=custom_colors, pctdistance=0.8)\n",
    "\n",
    "# draw circle\n",
    "center_circle = plt.Circle((0,0), radius=0.6, fc='white')\n",
    "plt.gca().add_artist(center_circle)\n",
    "plt.show()"
   ],
   "execution_count": 43,
   "outputs": [
    {
     "data": {
      "text/plain": "<Figure size 454x454 with 1 Axes>",
      "image/png": "[encoded data removed]"
     },
     "metadata": {},
     "output_type": "display_data"
    }
   ]
  },
  {
   "cell_type": "code",
   "metadata": {
    "colab": {
     "base_uri": "https://localhost:8080/",
     "height": 405
    },
    "id": "zHZRgRM8EdRr",
    "outputId": "9acc03f2-6330-41eb-da7f-a1455f7d7141"
   },
   "source": [
    "category_names = ['Spam', \"Legit Mail\", 'Updates', 'Promotions']\n",
    "sizes = [25, 43, 19, 22]\n",
    "custom_colors=['#ff7675', '#74b9ff', '#55efc4', '#ffeaa7']\n",
    "offset = [0.05, 0.05, 0.05, 0.05]\n",
    "\n",
    "plt.figure(figsize=(2,2), dpi=227)\n",
    "plt.pie(sizes, labels=category_names, textprops={'fontsize': 6}, startangle=90,\n",
    "        autopct='%1.0f%%', colors=custom_colors, pctdistance=0.8, explode=offset)\n",
    "\n",
    "# draw circle\n",
    "center_circle = plt.Circle((0,0), radius=0.6, fc='white')\n",
    "plt.gca().add_artist(center_circle)\n",
    "plt.show()"
   ],
   "execution_count": 44,
   "outputs": [
    {
     "data": {
      "text/plain": "<Figure size 454x454 with 1 Axes>",
      "image/png": "[encoded data removed]"
     },
     "metadata": {},
     "output_type": "display_data"
    }
   ]
  },
  {
   "cell_type": "markdown",
   "metadata": {
    "id": "azx61NvLGFqh"
   },
   "source": [
    "# Natural Language Processing"
   ]
  },
  {
   "cell_type": "markdown",
   "metadata": {
    "id": "1KftcpwJFVt0"
   },
   "source": [
    "### Text Pre-Processing"
   ]
  },
  {
   "cell_type": "code",
   "metadata": {
    "colab": {
     "base_uri": "https://localhost:8080/",
     "height": 0
    },
    "id": "mj1Aq2aQGK_X",
    "outputId": "db958e3e-65b5-4764-d0d3-719755a73032"
   },
   "source": [
    "# convert to lower case\n",
    "msg = \"All work and no play makes Jack a dull boy.\"\n",
    "msg.lower()"
   ],
   "execution_count": 45,
   "outputs": [
    {
     "data": {
      "text/plain": "'all work and no play makes jack a dull boy.'"
     },
     "execution_count": 45,
     "metadata": {},
     "output_type": "execute_result"
    }
   ]
  },
  {
   "cell_type": "markdown",
   "metadata": {
    "id": "eZKq7GgPGLw-"
   },
   "source": [
    "### Download the NLTK Resources (Tokenizer & Stopwords)"
   ]
  },
  {
   "cell_type": "code",
   "metadata": {
    "colab": {
     "base_uri": "https://localhost:8080/"
    },
    "id": "btdHACJnG_m8",
    "outputId": "1881f042-a8ed-4f9e-c2f6-056fde32d4c9"
   },
   "source": [
    "nltk.download('punkt')"
   ],
   "execution_count": 46,
   "outputs": [
    {
     "name": "stderr",
     "output_type": "stream",
     "text": [
      "[nltk_data] Downloading package punkt to /Users/wburn/nltk_data...\n",
      "[nltk_data]   Package punkt is already up-to-date!\n"
     ]
    },
    {
     "data": {
      "text/plain": "True"
     },
     "execution_count": 46,
     "metadata": {},
     "output_type": "execute_result"
    }
   ]
  },
  {
   "cell_type": "code",
   "metadata": {
    "colab": {
     "base_uri": "https://localhost:8080/"
    },
    "id": "P9weMLReHym6",
    "outputId": "ede56fd5-1418-4218-9746-af4a2df1b03c"
   },
   "source": [
    "nltk.download('stopwords')"
   ],
   "execution_count": 47,
   "outputs": [
    {
     "name": "stderr",
     "output_type": "stream",
     "text": [
      "[nltk_data] Downloading package stopwords to /Users/wburn/nltk_data...\n",
      "[nltk_data]   Package stopwords is already up-to-date!\n"
     ]
    },
    {
     "data": {
      "text/plain": "True"
     },
     "execution_count": 47,
     "metadata": {},
     "output_type": "execute_result"
    }
   ]
  },
  {
   "cell_type": "markdown",
   "metadata": {
    "id": "hRe5yxwJHF0y"
   },
   "source": [
    "## Tokenizing"
   ]
  },
  {
   "cell_type": "code",
   "metadata": {
    "colab": {
     "base_uri": "https://localhost:8080/"
    },
    "id": "ZOh5JyfuHHtQ",
    "outputId": "8f45ff5b-c44f-4317-b90e-6213656a07a6"
   },
   "source": [
    "msg = \"All work and no play makes Jack a dull boy.\"\n",
    "word_tokenize(msg.lower())"
   ],
   "execution_count": 48,
   "outputs": [
    {
     "data": {
      "text/plain": "['all', 'work', 'and', 'no', 'play', 'makes', 'jack', 'a', 'dull', 'boy', '.']"
     },
     "execution_count": 48,
     "metadata": {},
     "output_type": "execute_result"
    }
   ]
  },
  {
   "cell_type": "markdown",
   "metadata": {
    "id": "wtUGe8X6HVdT"
   },
   "source": [
    "## Removing Stop Words"
   ]
  },
  {
   "cell_type": "code",
   "metadata": {
    "colab": {
     "base_uri": "https://localhost:8080/"
    },
    "id": "SFHvYF2dHf_y",
    "outputId": "417ad735-1582-42a8-d456-ffc0d65e92d5"
   },
   "source": [
    "stop_words = set(stopwords.words('english'))\n",
    "type(stop_words)"
   ],
   "execution_count": 49,
   "outputs": [
    {
     "data": {
      "text/plain": "set"
     },
     "execution_count": 49,
     "metadata": {},
     "output_type": "execute_result"
    }
   ]
  },
  {
   "cell_type": "code",
   "metadata": {
    "colab": {
     "base_uri": "https://localhost:8080/"
    },
    "id": "8XpIVnPTHfll",
    "outputId": "40c6ac68-39cc-47b4-8108-8a1941bc8a1e"
   },
   "source": [
    "if 'this' in stop_words: print('Found it!')"
   ],
   "execution_count": 50,
   "outputs": [
    {
     "name": "stdout",
     "output_type": "stream",
     "text": [
      "Found it!\n"
     ]
    }
   ]
  },
  {
   "cell_type": "code",
   "metadata": {
    "colab": {
     "base_uri": "https://localhost:8080/"
    },
    "id": "AyBQ4pzKHe0m",
    "outputId": "fc05bbf2-6032-4b92-e5b1-64ff67675f7c"
   },
   "source": [
    "if 'hello' not in stop_words: print('Nope, not in here!')"
   ],
   "execution_count": 51,
   "outputs": [
    {
     "name": "stdout",
     "output_type": "stream",
     "text": [
      "Nope, not in here!\n"
     ]
    }
   ]
  },
  {
   "cell_type": "code",
   "metadata": {
    "colab": {
     "base_uri": "https://localhost:8080/"
    },
    "id": "lJTVtTN5I0sK",
    "outputId": "c779ff0f-3c99-4be6-96a2-6eb085499257"
   },
   "source": [
    "msg = \"All work and no play makes Jack a dull boy. To be or not to be.\"\n",
    "words = word_tokenize(msg.lower())\n",
    "\n",
    "filtered_words = [word for word in words if word not in stop_words]\n",
    "filtered_words\n"
   ],
   "execution_count": 52,
   "outputs": [
    {
     "data": {
      "text/plain": "['work', 'play', 'makes', 'jack', 'dull', 'boy', '.', '.']"
     },
     "execution_count": 52,
     "metadata": {},
     "output_type": "execute_result"
    }
   ]
  },
  {
   "cell_type": "markdown",
   "metadata": {
    "id": "dB362gu4JUa2"
   },
   "source": [
    "## Word Stems and Stemming"
   ]
  },
  {
   "cell_type": "code",
   "metadata": {
    "colab": {
     "base_uri": "https://localhost:8080/"
    },
    "id": "SpH7PDEBXAVn",
    "outputId": "7a1d2b46-1f43-4fe8-bc1a-0f61262bd02b"
   },
   "source": [
    "msg = \"All work and no play makes Jack a dull boy. To be or not to be. \\\n",
    "        Nobody expects the Spanish Inquisition!\"\n",
    "words = word_tokenize(msg.lower())\n",
    "\n",
    "stemmer = PorterStemmer()\n",
    "\n",
    "filtered_words = []\n",
    "for word in words:\n",
    "    if word not in stop_words:\n",
    "        stemmed_word = stemmer.stem(word)\n",
    "        filtered_words.append(stemmed_word)\n",
    "\n",
    "print(filtered_words)"
   ],
   "execution_count": 53,
   "outputs": [
    {
     "name": "stdout",
     "output_type": "stream",
     "text": [
      "['work', 'play', 'make', 'jack', 'dull', 'boy', '.', '.', 'nobodi', 'expect', 'spanish', 'inquisit', '!']\n"
     ]
    }
   ]
  },
  {
   "cell_type": "markdown",
   "metadata": {
    "id": "DDTmWyiBXlUN"
   },
   "source": [
    "### Removing Punctuation"
   ]
  },
  {
   "cell_type": "code",
   "metadata": {
    "colab": {
     "base_uri": "https://localhost:8080/"
    },
    "id": "dbwLa35MYQ0l",
    "outputId": "0d85ed9f-ac0b-4b7b-eb68-8ce4b010d851"
   },
   "source": [
    "msg = \"All work and no play makes Jack a dull boy. To be or not to be. \\\n",
    "        Nobody expects the Spanish Inquisition!\"\n",
    "words = word_tokenize(msg.lower())\n",
    "\n",
    "stemmer = PorterStemmer()\n",
    "\n",
    "filtered_words = []\n",
    "for word in words:\n",
    "    if word not in stop_words and word.isalpha():\n",
    "        stemmed_word = stemmer.stem(word)\n",
    "        filtered_words.append(stemmed_word)\n",
    "\n",
    "print(filtered_words)"
   ],
   "execution_count": 54,
   "outputs": [
    {
     "name": "stdout",
     "output_type": "stream",
     "text": [
      "['work', 'play', 'make', 'jack', 'dull', 'boy', 'nobodi', 'expect', 'spanish', 'inquisit']\n"
     ]
    }
   ]
  },
  {
   "cell_type": "markdown",
   "metadata": {
    "id": "PCQYSlrwZreU"
   },
   "source": [
    "# Removing HTML tags from Emails"
   ]
  },
  {
   "cell_type": "code",
   "metadata": {
    "colab": {
     "base_uri": "https://localhost:8080/"
    },
    "id": "PUqCx5QOYcy2",
    "outputId": "9b16566a-eb22-4f00-ecff-8632158e3814"
   },
   "source": [
    "soup = BeautifulSoup(data.at[1, 'MESSAGE'], 'html.parser')\n",
    "print(soup.prettify())"
   ],
   "execution_count": 55,
   "outputs": [
    {
     "name": "stdout",
     "output_type": "stream",
     "text": [
      "ATTENTION: This is a MUST for ALL Computer Users!!!\n",
      "\n",
      "\n",
      "\n",
      "*NEW-Special Package Deal!*\n",
      "\n",
      "\n",
      "\n",
      "Norton SystemWorks 2002 Software Suite -Professional Edition-\n",
      "\n",
      "\n",
      "\n",
      "Includes Six - Yes 6! - Feature-Packed Utilities\n",
      "\n",
      "ALL For 1 Special LOW Price!\n",
      "\n",
      "\n",
      "\n",
      "This Software Will:\n",
      "\n",
      "- Protect your computer from unwanted and hazardous viruses\n",
      "\n",
      "- Help secure your private &amp; valuable information\n",
      "\n",
      "- Allow you to transfer files and send e-mails safely\n",
      "\n",
      "- Backup your ALL your data quick and easily\n",
      "\n",
      "- Improve your PC's performance w/superior integral diagnostics!\n",
      "\n",
      "\n",
      "\n",
      "6 Feature-Packed Utilities...1 Great Price!\n",
      "\n",
      "A $300+ Combined Retail Value!\n",
      "\n",
      "\n",
      "\n",
      "YOURS for Only $29.99!\n",
      "<includes free=\"\" shipping!=\"\">\n",
      " Don't fall prey to destructive viruses or hackers!\n",
      "\n",
      "Protect  your computer and your valuable information!\n",
      "\n",
      "\n",
      "\n",
      "\n",
      "\n",
      "So don't delay...get your copy TODAY!\n",
      "\n",
      "\n",
      "\n",
      "\n",
      "\n",
      "http://euro.specialdiscounts4u.com/\n",
      "\n",
      "++++++++++++++++++++++++++++++++++++++++++++++++++++++++++++++++++++++++++++\n",
      "\n",
      "This email has been screened and filtered by our in house \"\"OPT-OUT\"\" system in \n",
      "\n",
      "compliance with state laws. If you wish to \"OPT-OUT\" from this mailing as well \n",
      "\n",
      "as the lists of thousands  of other email providers please visit  \n",
      "\n",
      "\n",
      "\n",
      "http://dvd.specialdiscounts4u.com/optoutd.html\n",
      "\n",
      "++++++++++++++++++++++++++++++++++++++++++++++++++++++++++++++++++++++++++++\n",
      "</includes>\n"
     ]
    }
   ]
  },
  {
   "cell_type": "code",
   "metadata": {
    "colab": {
     "base_uri": "https://localhost:8080/",
     "height": 103
    },
    "id": "4Z1IKNzkZdHc",
    "outputId": "6828a5c3-f29b-4736-f591-4a1e748ad199"
   },
   "source": [
    "soup.get_text()"
   ],
   "execution_count": 56,
   "outputs": [
    {
     "data": {
      "text/plain": "'ATTENTION: This is a MUST for ALL Computer Users!!!\\n\\n\\n\\n*NEW-Special Package Deal!*\\n\\n\\n\\nNorton SystemWorks 2002 Software Suite -Professional Edition-\\n\\n\\n\\nIncludes Six - Yes 6! - Feature-Packed Utilities\\n\\nALL For 1 Special LOW Price!\\n\\n\\n\\nThis Software Will:\\n\\n- Protect your computer from unwanted and hazardous viruses\\n\\n- Help secure your private & valuable information\\n\\n- Allow you to transfer files and send e-mails safely\\n\\n- Backup your ALL your data quick and easily\\n\\n- Improve your PC\\'s performance w/superior integral diagnostics!\\n\\n\\n\\n6 Feature-Packed Utilities...1 Great Price!\\n\\nA $300+ Combined Retail Value!\\n\\n\\n\\nYOURS for Only $29.99!  \\n\\n\\n\\nDon\\'t fall prey to destructive viruses or hackers!\\n\\nProtect  your computer and your valuable information!\\n\\n\\n\\n\\n\\nSo don\\'t delay...get your copy TODAY!\\n\\n\\n\\n\\n\\nhttp://euro.specialdiscounts4u.com/\\n\\n++++++++++++++++++++++++++++++++++++++++++++++++++++++++++++++++++++++++++++\\n\\nThis email has been screened and filtered by our in house \"\"OPT-OUT\"\" system in \\n\\ncompliance with state laws. If you wish to \"OPT-OUT\" from this mailing as well \\n\\nas the lists of thousands  of other email providers please visit  \\n\\n\\n\\nhttp://dvd.specialdiscounts4u.com/optoutd.html\\n\\n++++++++++++++++++++++++++++++++++++++++++++++++++++++++++++++++++++++++++++\\n\\n\\n\\n\\n'"
     },
     "execution_count": 56,
     "metadata": {},
     "output_type": "execute_result"
    }
   ]
  },
  {
   "cell_type": "markdown",
   "metadata": {
    "id": "Xf_aeuaTagd8"
   },
   "source": [
    "## Functions for Email Processing"
   ]
  },
  {
   "cell_type": "code",
   "metadata": {
    "id": "Q-rBxYXnask2"
   },
   "source": [
    "def clean_message(message, stemmer=PorterStemmer(), \n",
    "                  stop_words=set(stopwords.words('english'))):\n",
    "    \n",
    "    words = word_tokenize(message.lower())\n",
    "    filtered_words = []\n",
    "\n",
    "    for word in words:\n",
    "        if word not in stop_words and word.isalpha:\n",
    "            filtered_words.append(stemmer.stem(word))\n",
    "\n",
    "    return filtered_words"
   ],
   "execution_count": 57,
   "outputs": []
  },
  {
   "cell_type": "code",
   "metadata": {
    "id": "zl_HyotxbNvb"
   },
   "source": [
    "def clean_message_no_html(message, stemmer=PorterStemmer(), \n",
    "                  stop_words=set(stopwords.words('english'))):\n",
    "    soup = BeautifulSoup(message, 'html.parser')\n",
    "    words = word_tokenize(soup.get_text().lower())\n",
    "    filtered_words = []\n",
    "\n",
    "    for word in words:\n",
    "        if word not in stop_words and word.isalpha():\n",
    "            filtered_words.append(stemmer.stem(word))\n",
    "\n",
    "    return filtered_words"
   ],
   "execution_count": 58,
   "outputs": []
  },
  {
   "cell_type": "code",
   "metadata": {
    "colab": {
     "base_uri": "https://localhost:8080/"
    },
    "id": "KOi0Zh5YbS3l",
    "outputId": "85803605-bdf4-4c1f-c2d2-428c08e1530d"
   },
   "source": [
    "clean_message_no_html(data.at[2, 'MESSAGE'])"
   ],
   "execution_count": 59,
   "outputs": [
    {
     "data": {
      "text/plain": "['messag',\n 'mime',\n 'format',\n 'dare',\n 'tri',\n 'find',\n 'better',\n 'annuiti',\n 'guarante',\n 'year',\n 'surrend',\n 'agent',\n 'commiss',\n 'age',\n 'call',\n 'today',\n 'inform',\n 'ext',\n 'pleas',\n 'fill',\n 'form',\n 'inform',\n 'name',\n 'phone',\n 'citi',\n 'state',\n 'pmg',\n 'financi',\n 'servic',\n 'deposit',\n 'interest',\n 'deposit',\n 'total',\n 'want',\n 'anyon',\n 'receiv',\n 'mail',\n 'wish',\n 'receiv',\n 'profession',\n 'commun',\n 'sent',\n 'insur',\n 'profession',\n 'remov',\n 'mail',\n 'list',\n 'repli',\n 'messag',\n 'instead',\n 'go',\n 'http',\n 'legal',\n 'notic',\n 'dare',\n 'find',\n 'better',\n 'annuiti',\n 'call',\n 'today',\n 'inform',\n 'pleas',\n 'fill',\n 'form',\n 'inform',\n 'name',\n 'phone',\n 'citi',\n 'state',\n 'deposit',\n 'interest',\n 'deposit',\n 'total',\n 'want',\n 'anyon',\n 'receiv',\n 'mail',\n 'wish',\n 'receiv',\n 'profession',\n 'sent',\n 'insur',\n 'profession',\n 'remov',\n 'list',\n 'repli',\n 'messag',\n 'instead',\n 'go',\n 'http',\n 'legal',\n 'notic']"
     },
     "execution_count": 59,
     "metadata": {},
     "output_type": "execute_result"
    }
   ]
  },
  {
   "cell_type": "markdown",
   "metadata": {
    "id": "7sopjTr_cJWF"
   },
   "source": [
    "# Apply Cleaning and Tokenisation to all messages"
   ]
  },
  {
   "cell_type": "markdown",
   "metadata": {
    "id": "U3vHj1-Mejbk"
   },
   "source": [
    "### Slicing Dataframes and Series & Creating Subsets"
   ]
  },
  {
   "cell_type": "code",
   "metadata": {
    "colab": {
     "base_uri": "https://localhost:8080/",
     "height": 35
    },
    "id": "XYfGPgSyoncp",
    "outputId": "ead514ca-cd70-4947-fa0b-a47f0759c92e"
   },
   "source": [
    "data.iat[2,2]"
   ],
   "execution_count": 60,
   "outputs": [
    {
     "data": {
      "text/plain": "'00214.1367039e50dc6b7adb0f2aa8aba83216'"
     },
     "execution_count": 60,
     "metadata": {},
     "output_type": "execute_result"
    }
   ]
  },
  {
   "cell_type": "code",
   "metadata": {
    "colab": {
     "base_uri": "https://localhost:8080/",
     "height": 266
    },
    "id": "aU0QtlJdovLM",
    "outputId": "d9bc7d8e-b102-4f32-dc68-07de366f0b24"
   },
   "source": [
    "data.iloc[5:11]"
   ],
   "execution_count": 61,
   "outputs": [
    {
     "data": {
      "text/plain": "                                                  MESSAGE  CATEGORY  \\\nDOC_ID                                                                \n5       ------=_NextPart_000_00B8_51E06B6A.C8586B31\\n\\...         1   \n6       <STYLE type=\"text/css\">\\n\\n<!--\\n\\nP{\\n\\n  fon...         1   \n7       <HR>\\n\\n<html>\\n\\n<head>\\n\\n  <title>Secured I...         1   \n8       <table width=\"600\" border=\"20\" align=\"center\" ...         1   \n9       <html>\\n\\n\\n\\n<head>\\n\\n<meta http-equiv=\"Cont...         1   \n10      Dear Consumers, Increase your Business Sales! ...         1   \n\n                                     FILE_NAME  \nDOC_ID                                          \n5       00187.efd97ab2034b3384606e21db00014ecb  \n6       00500.85b72f09f6778a085dc8b6821965a76f  \n7       00493.1c5f59825f7a246187c137614fb1ea82  \n8       00012.381e4f512915109ba1e0853a7a8407b2  \n9       00487.139a2f4e8edbbdd64441536308169d74  \n10      00159.b16f070a576c2eb1533aa9e2cf8e6b77  ",
      "text/html": "<div>\n<style scoped>\n    .dataframe tbody tr th:only-of-type {\n        vertical-align: middle;\n    }\n\n    .dataframe tbody tr th {\n        vertical-align: top;\n    }\n\n    .dataframe thead th {\n        text-align: right;\n    }\n</style>\n<table border=\"1\" class=\"dataframe\">\n  <thead>\n    <tr style=\"text-align: right;\">\n      <th></th>\n      <th>MESSAGE</th>\n      <th>CATEGORY</th>\n      <th>FILE_NAME</th>\n    </tr>\n    <tr>\n      <th>DOC_ID</th>\n      <th></th>\n      <th></th>\n      <th></th>\n    </tr>\n  </thead>\n  <tbody>\n    <tr>\n      <th>5</th>\n      <td>------=_NextPart_000_00B8_51E06B6A.C8586B31\\n\\...</td>\n      <td>1</td>\n      <td>00187.efd97ab2034b3384606e21db00014ecb</td>\n    </tr>\n    <tr>\n      <th>6</th>\n      <td>&lt;STYLE type=\"text/css\"&gt;\\n\\n&lt;!--\\n\\nP{\\n\\n  fon...</td>\n      <td>1</td>\n      <td>00500.85b72f09f6778a085dc8b6821965a76f</td>\n    </tr>\n    <tr>\n      <th>7</th>\n      <td>&lt;HR&gt;\\n\\n&lt;html&gt;\\n\\n&lt;head&gt;\\n\\n  &lt;title&gt;Secured I...</td>\n      <td>1</td>\n      <td>00493.1c5f59825f7a246187c137614fb1ea82</td>\n    </tr>\n    <tr>\n      <th>8</th>\n      <td>&lt;table width=\"600\" border=\"20\" align=\"center\" ...</td>\n      <td>1</td>\n      <td>00012.381e4f512915109ba1e0853a7a8407b2</td>\n    </tr>\n    <tr>\n      <th>9</th>\n      <td>&lt;html&gt;\\n\\n\\n\\n&lt;head&gt;\\n\\n&lt;meta http-equiv=\"Cont...</td>\n      <td>1</td>\n      <td>00487.139a2f4e8edbbdd64441536308169d74</td>\n    </tr>\n    <tr>\n      <th>10</th>\n      <td>Dear Consumers, Increase your Business Sales! ...</td>\n      <td>1</td>\n      <td>00159.b16f070a576c2eb1533aa9e2cf8e6b77</td>\n    </tr>\n  </tbody>\n</table>\n</div>"
     },
     "execution_count": 61,
     "metadata": {},
     "output_type": "execute_result"
    }
   ]
  },
  {
   "cell_type": "code",
   "metadata": {
    "id": "peVx-1Zxo7wy"
   },
   "source": [
    "first_emails = data.MESSAGE.iloc[0:3]\n",
    "\n",
    "nested_list = first_emails.apply(clean_message_no_html)"
   ],
   "execution_count": 62,
   "outputs": []
  },
  {
   "cell_type": "code",
   "metadata": {
    "colab": {
     "base_uri": "https://localhost:8080/"
    },
    "id": "vr3_6VfcpGFC",
    "outputId": "f753d634-ca6b-40cd-8ace-78cb7565ed2a"
   },
   "source": [
    "# flat_list = []\n",
    "# for sublist in nested_list:\n",
    "#     for item in sublist:\n",
    "#         flat_list.append(item)\n",
    "\n",
    "flat_list = [item for sublist in nested_list for item in sublist]\n",
    "\n",
    "len(flat_list)"
   ],
   "execution_count": 63,
   "outputs": [
    {
     "data": {
      "text/plain": "222"
     },
     "execution_count": 63,
     "metadata": {},
     "output_type": "execute_result"
    }
   ]
  },
  {
   "cell_type": "code",
   "metadata": {
    "colab": {
     "base_uri": "https://localhost:8080/"
    },
    "id": "ukBvqvnppr9T",
    "outputId": "fcf6e4eb-727f-4f92-df1b-a58a97140912"
   },
   "source": [
    "%%time\n",
    "# use apply() on all the messages in the dataframe\n",
    "nested_list = data.MESSAGE.apply(clean_message_no_html)"
   ],
   "execution_count": 64,
   "outputs": [
    {
     "name": "stderr",
     "output_type": "stream",
     "text": [
      "/Users/wburn/notebooks/machine-learning-course/venv/lib/python3.9/site-packages/bs4/__init__.py:417: MarkupResemblesLocatorWarning: \"http://www.post-gazette.com/columnists/20020905brian5\n",
      "\" looks like a URL. Beautiful Soup is not an HTTP client. You should probably use an HTTP client like requests to get the document behind the URL, and feed that document to Beautiful Soup.\n",
      "  warnings.warn(\n"
     ]
    },
    {
     "name": "stdout",
     "output_type": "stream",
     "text": [
      "CPU times: user 44.2 s, sys: 528 ms, total: 44.7 s\n",
      "Wall time: 45.3 s\n"
     ]
    }
   ]
  },
  {
   "cell_type": "code",
   "metadata": {
    "colab": {
     "base_uri": "https://localhost:8080/"
    },
    "id": "1m9vG-mVqPdb",
    "outputId": "8cdd207d-9064-44cd-b946-932214aede02"
   },
   "source": [
    "nested_list.head()"
   ],
   "execution_count": 65,
   "outputs": [
    {
     "data": {
      "text/plain": "DOC_ID\n0    [dear, homeown, interest, rate, lowest, point,...\n1    [attent, must, comput, user, packag, deal, nor...\n2    [messag, mime, format, dare, tri, find, better...\n3    [import, inform, new, domain, name, final, ava...\n4    [bottom, line, give, away, cd, free, peopl, li...\nName: MESSAGE, dtype: object"
     },
     "execution_count": 65,
     "metadata": {},
     "output_type": "execute_result"
    }
   ]
  },
  {
   "cell_type": "code",
   "metadata": {
    "colab": {
     "base_uri": "https://localhost:8080/"
    },
    "id": "0qIwrUReq2sT",
    "outputId": "b953c082-e5fc-4e7e-8e74-6229ac28b377"
   },
   "source": [
    "nested_list.tail()"
   ],
   "execution_count": 66,
   "outputs": [
    {
     "data": {
      "text/plain": "DOC_ID\n5791    [one, work, well, week, te, updat, server, syn...\n5792    [damien, morton, quot, approv, html, abl, say,...\n5793    [mon, che, wrote, that, correct, line, ad, rep...\n5794    [upon, time, manfr, wrote, would, like, instal...\n5795    [run, pick, use, new, ftoc, button, show, mess...\nName: MESSAGE, dtype: object"
     },
     "execution_count": 66,
     "metadata": {},
     "output_type": "execute_result"
    }
   ]
  },
  {
   "cell_type": "markdown",
   "metadata": {
    "id": "MkxYUbYTq38f"
   },
   "source": [
    "### Using Logic to Slice DataFrames"
   ]
  },
  {
   "cell_type": "code",
   "metadata": {
    "colab": {
     "base_uri": "https://localhost:8080/"
    },
    "id": "cGgk-2rKrD_f",
    "outputId": "6b5f4fe9-53dc-448c-b0d8-5cf3c86127a2"
   },
   "source": [
    "data[data.CATEGORY == 1].shape"
   ],
   "execution_count": 67,
   "outputs": [
    {
     "data": {
      "text/plain": "(1896, 3)"
     },
     "execution_count": 67,
     "metadata": {},
     "output_type": "execute_result"
    }
   ]
  },
  {
   "cell_type": "code",
   "metadata": {
    "colab": {
     "base_uri": "https://localhost:8080/"
    },
    "id": "Ahh5Kt_arKQG",
    "outputId": "d407eb82-1a4e-41a2-ee87-959c162cded8"
   },
   "source": [
    "data[data.CATEGORY == 1].tail"
   ],
   "execution_count": 68,
   "outputs": [
    {
     "data": {
      "text/plain": "<bound method NDFrame.tail of                                                   MESSAGE  CATEGORY  \\\nDOC_ID                                                                \n0       Dear Homeowner,\\n\\n \\n\\nInterest Rates are at ...         1   \n1       ATTENTION: This is a MUST for ALL Computer Use...         1   \n2       This is a multi-part message in MIME format.\\n...         1   \n3       IMPORTANT INFORMATION:\\n\\n\\n\\nThe new domain n...         1   \n4       This is the bottom line.  If you can GIVE AWAY...         1   \n...                                                   ...       ...   \n1891    <!DOCTYPE HTML PUBLIC \"-//W3C//DTD HTML 4.0 Tr...         1   \n1892    <html>\\n\\n<HEAD> \\n\\n<TITLE>creditfix</TITLE> ...         1   \n1893    Hello:\\n\\n\\n\\nAre you satisfied with your ISP?...         1   \n1894    <html><HEAD><TITLE>creditfix</TITLE> \\n\\n</HEA...         1   \n1895    <HTML><HEAD></HEAD><BODY><b><FONT SIZE=3D4>In ...         1   \n\n                                     FILE_NAME  \nDOC_ID                                          \n0       00249.5f45607c1bffe89f60ba1ec9f878039a  \n1       00373.ebe8670ac56b04125c25100a36ab0510  \n2       00214.1367039e50dc6b7adb0f2aa8aba83216  \n3       00210.050ffd105bd4e006771ee63cabc59978  \n4       00033.9babb58d9298daa2963d4f514193d7d6  \n...                                        ...  \n1891    01311.43bfe86df65d53c5f7ca2365dc12582b  \n1892    00851.dc5452f80ba0bb8481dfc48f70380c4d  \n1893    01328.b23902de23cb3ca1f3334517282372b2  \n1894    01244.9ef966101737a6fc27d8965def288d70  \n1895    00788.b98a23c07d59156d172683fc29b80661  \n\n[1896 rows x 3 columns]>"
     },
     "execution_count": 68,
     "metadata": {},
     "output_type": "execute_result"
    }
   ]
  },
  {
   "cell_type": "code",
   "metadata": {
    "id": "nJtBEvfArORF"
   },
   "source": [
    "doc_ids_spam = data[data.CATEGORY == 1].index\n",
    "doc_ids_ham = data[data.CATEGORY == 0].index"
   ],
   "execution_count": 69,
   "outputs": []
  },
  {
   "cell_type": "markdown",
   "metadata": {
    "id": "Htp2cOWPry1B"
   },
   "source": [
    "### Subsetting A Series with an Index"
   ]
  },
  {
   "cell_type": "code",
   "metadata": {
    "id": "nrShG_qEsD_V"
   },
   "source": [
    "nested_list_ham = nested_list.loc[doc_ids_ham]"
   ],
   "execution_count": 70,
   "outputs": []
  },
  {
   "cell_type": "code",
   "metadata": {
    "colab": {
     "base_uri": "https://localhost:8080/"
    },
    "id": "n4-wQAIusOCj",
    "outputId": "aeea8821-ee15-4b0e-b062-35da0194ccb6"
   },
   "source": [
    "nested_list_ham.shape"
   ],
   "execution_count": 71,
   "outputs": [
    {
     "data": {
      "text/plain": "(3900,)"
     },
     "execution_count": 71,
     "metadata": {},
     "output_type": "execute_result"
    }
   ]
  },
  {
   "cell_type": "code",
   "metadata": {
    "colab": {
     "base_uri": "https://localhost:8080/"
    },
    "id": "xBcWexXksPW4",
    "outputId": "683ef53d-34ca-4005-9415-933f3c763fa5"
   },
   "source": [
    "nested_list_ham.tail()"
   ],
   "execution_count": 72,
   "outputs": [
    {
     "data": {
      "text/plain": "DOC_ID\n5791    [one, work, well, week, te, updat, server, syn...\n5792    [damien, morton, quot, approv, html, abl, say,...\n5793    [mon, che, wrote, that, correct, line, ad, rep...\n5794    [upon, time, manfr, wrote, would, like, instal...\n5795    [run, pick, use, new, ftoc, button, show, mess...\nName: MESSAGE, dtype: object"
     },
     "execution_count": 72,
     "metadata": {},
     "output_type": "execute_result"
    }
   ]
  },
  {
   "cell_type": "code",
   "metadata": {
    "id": "oARUlZ0zsUle"
   },
   "source": [
    "nested_list_spam = nested_list.loc[doc_ids_spam]"
   ],
   "execution_count": 73,
   "outputs": []
  },
  {
   "cell_type": "code",
   "metadata": {
    "colab": {
     "base_uri": "https://localhost:8080/"
    },
    "id": "-qkMj3JKsZji",
    "outputId": "c206df3b-8031-4759-9f1c-6fe6890dda26"
   },
   "source": [
    "flat_list_ham = [word for sublist in nested_list_ham for word in sublist]\n",
    "normal_words = pd.Series(flat_list_ham).value_counts()\n",
    "\n",
    "normal_words.shape[0] # total number of unique words in the non-spam messages"
   ],
   "execution_count": 74,
   "outputs": [
    {
     "data": {
      "text/plain": "20815"
     },
     "execution_count": 74,
     "metadata": {},
     "output_type": "execute_result"
    }
   ]
  },
  {
   "cell_type": "code",
   "metadata": {
    "colab": {
     "base_uri": "https://localhost:8080/"
    },
    "id": "dqTfLIHPs8RJ",
    "outputId": "0ee19b26-510e-4455-833a-d30edc2e25bc"
   },
   "source": [
    "normal_words[:10]"
   ],
   "execution_count": 75,
   "outputs": [
    {
     "data": {
      "text/plain": "http      7563\nuse       3633\nlist      2880\none       2373\nget       2286\nmail      2255\nwould     2003\nlike      1931\nmessag    1849\nwork      1800\ndtype: int64"
     },
     "execution_count": 75,
     "metadata": {},
     "output_type": "execute_result"
    }
   ]
  },
  {
   "cell_type": "code",
   "metadata": {
    "colab": {
     "base_uri": "https://localhost:8080/"
    },
    "id": "Bg-DGp_YtuMl",
    "outputId": "4c4c3d8d-3581-4b7e-aaf2-62719366e8ff"
   },
   "source": [
    "flat_list_spam = [word for sublist in nested_list_spam for word in sublist]\n",
    "spammy_words = pd.Series(flat_list_spam).value_counts()\n",
    "\n",
    "spammy_words.shape[0] # total number of unique words in the non-spam messages"
   ],
   "execution_count": 76,
   "outputs": [
    {
     "data": {
      "text/plain": "13242"
     },
     "execution_count": 76,
     "metadata": {},
     "output_type": "execute_result"
    }
   ]
  },
  {
   "cell_type": "code",
   "metadata": {
    "colab": {
     "base_uri": "https://localhost:8080/"
    },
    "id": "CavRshhhvKJx",
    "outputId": "119f5380-667e-43a1-93b5-fe7d5d84392e"
   },
   "source": [
    "spammy_words[:10]"
   ],
   "execution_count": 77,
   "outputs": [
    {
     "data": {
      "text/plain": "http      3097\nemail     3090\nfree      2585\nclick     2058\nreceiv    1989\nlist      1971\nget       1914\npleas     1852\nbusi      1792\norder     1746\ndtype: int64"
     },
     "execution_count": 77,
     "metadata": {},
     "output_type": "execute_result"
    }
   ]
  },
  {
   "source": [
    "# Creating a Word Cloud"
   ],
   "cell_type": "markdown",
   "metadata": {
    "id": "qTQeCU9bvTCS"
   }
  },
  {
   "cell_type": "code",
   "execution_count": 78,
   "metadata": {},
   "outputs": [
    {
     "data": {
      "text/plain": "<Figure size 432x288 with 1 Axes>",
      "image/png": "[encoded data removed]"
     },
     "metadata": {
      "needs_background": "light"
     },
     "output_type": "display_data"
    }
   ],
   "source": [
    "word_cloud = WordCloud().generate(email_body)\n",
    "plt.imshow(word_cloud, interpolation='bilinear')\n",
    "plt.axis('off')\n",
    "plt.show()"
   ]
  },
  {
   "cell_type": "code",
   "execution_count": 79,
   "metadata": {},
   "outputs": [
    {
     "name": "stderr",
     "output_type": "stream",
     "text": [
      "[nltk_data] Downloading package gutenberg to /Users/wburn/nltk_data...\n",
      "[nltk_data]   Package gutenberg is already up-to-date!\n",
      "[nltk_data] Downloading package shakespeare to\n",
      "[nltk_data]     /Users/wburn/nltk_data...\n",
      "[nltk_data]   Package shakespeare is already up-to-date!\n"
     ]
    },
    {
     "data": {
      "text/plain": "True"
     },
     "execution_count": 79,
     "metadata": {},
     "output_type": "execute_result"
    }
   ],
   "source": [
    "nltk.download('gutenberg')\n",
    "nltk.download('shakespeare')"
   ]
  },
  {
   "cell_type": "code",
   "execution_count": 80,
   "metadata": {},
   "outputs": [
    {
     "data": {
      "text/plain": "260819"
     },
     "execution_count": 80,
     "metadata": {},
     "output_type": "execute_result"
    }
   ],
   "source": [
    "example_corpus = nltk.corpus.gutenberg.words('melville-moby_dick.txt')\n",
    "len(example_corpus)"
   ]
  },
  {
   "cell_type": "code",
   "execution_count": 81,
   "metadata": {},
   "outputs": [
    {
     "data": {
      "text/plain": "nltk.corpus.reader.util.StreamBackedCorpusView"
     },
     "execution_count": 81,
     "metadata": {},
     "output_type": "execute_result"
    }
   ],
   "source": [
    "type(example_corpus)"
   ]
  },
  {
   "cell_type": "code",
   "execution_count": 82,
   "metadata": {},
   "outputs": [],
   "source": [
    "word_list = [''.join(word) for word in example_corpus]"
   ]
  },
  {
   "cell_type": "code",
   "execution_count": 83,
   "metadata": {},
   "outputs": [],
   "source": [
    "novel_as_string = ' '.join(word_list)"
   ]
  },
  {
   "cell_type": "code",
   "execution_count": 84,
   "metadata": {},
   "outputs": [
    {
     "data": {
      "text/plain": "<Figure size 432x288 with 1 Axes>",
      "image/png": "[encoded data removed]"
     },
     "metadata": {
      "needs_background": "light"
     },
     "output_type": "display_data"
    }
   ],
   "source": [
    "word_cloud = WordCloud().generate(novel_as_string)\n",
    "plt.imshow(word_cloud, interpolation='bilinear')\n",
    "plt.axis('off')\n",
    "plt.show()"
   ]
  },
  {
   "cell_type": "code",
   "execution_count": 84,
   "metadata": {},
   "outputs": [],
   "source": []
  }
 ]
}