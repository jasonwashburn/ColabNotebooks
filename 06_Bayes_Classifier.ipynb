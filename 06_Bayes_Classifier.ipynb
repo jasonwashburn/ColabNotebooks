{
  "nbformat": 4,
  "nbformat_minor": 0,
  "metadata": {
    "colab": {
      "name": "06 Bayes Classifier.ipynb",
      "provenance": [],
      "mount_file_id": "1BI41MbZxYYOIZa8xhvaSkyhaOPEf7WLj",
      "authorship_tag": "ABX9TyOMobP8yLZGDIRDaoPHArrB",
      "include_colab_link": true
    },
    "kernelspec": {
      "name": "python3",
      "display_name": "Python 3"
    },
    "language_info": {
      "name": "python"
    }
  },
  "cells": [
    {
      "cell_type": "markdown",
      "metadata": {
        "id": "view-in-github",
        "colab_type": "text"
      },
      "source": [
        "<a href=\"https://colab.research.google.com/github/jasonwashburn/ColabNotebooks/blob/main/06_Bayes_Classifier.ipynb\" target=\"_parent\"><img src=\"https://colab.research.google.com/assets/colab-badge.svg\" alt=\"Open In Colab\"/></a>"
      ]
    },
    {
      "cell_type": "markdown",
      "metadata": {
        "id": "CM3MLclk76Bo"
      },
      "source": [
        "# File Setup"
      ]
    },
    {
      "cell_type": "code",
      "metadata": {
        "id": "_OEGwMg57-AR"
      },
      "source": [
        "!cp \"/content/drive/MyDrive/Colab Notebooks/SpamData.zip\" ./\n",
        "!unzip SpamData > unzip.log"
      ],
      "execution_count": 1,
      "outputs": []
    },
    {
      "cell_type": "markdown",
      "metadata": {
        "id": "oeNjsi6Ay8DP"
      },
      "source": [
        "# Imports"
      ]
    },
    {
      "cell_type": "code",
      "metadata": {
        "id": "OvuRyt0ezBdt"
      },
      "source": [
        "from os import walk\n",
        "from os.path import join\n",
        "import pandas as pd\n",
        "\n",
        "import matplotlib.pyplot as plt\n",
        "\n",
        "import nltk\n",
        "from nltk.stem import PorterStemmer\n",
        "from nltk.corpus import stopwords\n",
        "from nltk.tokenize import word_tokenize\n",
        "\n",
        "from bs4 import BeautifulSoup\n",
        "\n",
        "%matplotlib inline"
      ],
      "execution_count": 2,
      "outputs": []
    },
    {
      "cell_type": "markdown",
      "metadata": {
        "id": "F8n0lWpJArmR"
      },
      "source": [
        "## Constants"
      ]
    },
    {
      "cell_type": "code",
      "metadata": {
        "id": "vAsdpV4I0ZNb"
      },
      "source": [
        "EXAMPLE_FILE = \"SpamData/01_Processing/practice_email.txt\"\n",
        "\n",
        "SPAM_1_PATH = \"SpamData/01_Processing/spam_assassin_corpus/spam_1\"\n",
        "SPAM_2_PATH = \"SpamData/01_Processing/spam_assassin_corpus/spam_2\"\n",
        "EASY_NONSPAM_1_PATH = \"SpamData/01_Processing/spam_assassin_corpus/easy_ham_1\"\n",
        "EASY_NONSPAM_2_PATH = \"SpamData/01_Processing/spam_assassin_corpus/easy_ham_2\"\n",
        "\n",
        "SPAM_CAT = 1\n",
        "HAM_CAT = 0\n",
        "\n",
        "DATA_JSON_FILE = \"SpamData/01_Processing/email-text-data.json\""
      ],
      "execution_count": 3,
      "outputs": []
    },
    {
      "cell_type": "code",
      "metadata": {
        "colab": {
          "base_uri": "https://localhost:8080/"
        },
        "id": "akPNtg5I1mv7",
        "outputId": "9c1a7845-2785-48b7-d026-eb8f42cb95ac"
      },
      "source": [
        "print(SPAM_1_PATH)"
      ],
      "execution_count": 4,
      "outputs": [
        {
          "output_type": "stream",
          "text": [
            "SpamData/01_Processing/spam_assassin_corpus/spam_1\n"
          ],
          "name": "stdout"
        }
      ]
    },
    {
      "cell_type": "markdown",
      "metadata": {
        "id": "WRFNd_2WA8cY"
      },
      "source": [
        "## Reading Files"
      ]
    },
    {
      "cell_type": "code",
      "metadata": {
        "colab": {
          "base_uri": "https://localhost:8080/"
        },
        "id": "NUJn8YaXA_L8",
        "outputId": "e31958e9-f187-4e3b-e93d-657cd6fa340a"
      },
      "source": [
        "stream = open(EXAMPLE_FILE, encoding='latin-1')\n",
        "message = stream.read()\n",
        "stream.close()\n",
        "\n",
        "print(message)"
      ],
      "execution_count": 5,
      "outputs": [
        {
          "output_type": "stream",
          "text": [
            "From exmh-workers-admin@redhat.com  Thu Aug 22 12:36:23 2002\n",
            "Return-Path: <exmh-workers-admin@spamassassin.taint.org>\n",
            "Delivered-To: zzzz@localhost.netnoteinc.com\n",
            "Received: from localhost (localhost [127.0.0.1])\n",
            "\tby phobos.labs.netnoteinc.com (Postfix) with ESMTP id D03E543C36\n",
            "\tfor <zzzz@localhost>; Thu, 22 Aug 2002 07:36:16 -0400 (EDT)\n",
            "Received: from phobos [127.0.0.1]\n",
            "\tby localhost with IMAP (fetchmail-5.9.0)\n",
            "\tfor zzzz@localhost (single-drop); Thu, 22 Aug 2002 12:36:16 +0100 (IST)\n",
            "Received: from listman.spamassassin.taint.org (listman.spamassassin.taint.org [66.187.233.211]) by\n",
            "    dogma.slashnull.org (8.11.6/8.11.6) with ESMTP id g7MBYrZ04811 for\n",
            "    <zzzz-exmh@spamassassin.taint.org>; Thu, 22 Aug 2002 12:34:53 +0100\n",
            "Received: from listman.spamassassin.taint.org (localhost.localdomain [127.0.0.1]) by\n",
            "    listman.redhat.com (Postfix) with ESMTP id 8386540858; Thu, 22 Aug 2002\n",
            "    07:35:02 -0400 (EDT)\n",
            "Delivered-To: exmh-workers@listman.spamassassin.taint.org\n",
            "Received: from int-mx1.corp.spamassassin.taint.org (int-mx1.corp.spamassassin.taint.org\n",
            "    [172.16.52.254]) by listman.redhat.com (Postfix) with ESMTP id 10CF8406D7\n",
            "    for <exmh-workers@listman.redhat.com>; Thu, 22 Aug 2002 07:34:10 -0400\n",
            "    (EDT)\n",
            "Received: (from mail@localhost) by int-mx1.corp.spamassassin.taint.org (8.11.6/8.11.6)\n",
            "    id g7MBY7g11259 for exmh-workers@listman.redhat.com; Thu, 22 Aug 2002\n",
            "    07:34:07 -0400\n",
            "Received: from mx1.spamassassin.taint.org (mx1.spamassassin.taint.org [172.16.48.31]) by\n",
            "    int-mx1.corp.redhat.com (8.11.6/8.11.6) with SMTP id g7MBY7Y11255 for\n",
            "    <exmh-workers@redhat.com>; Thu, 22 Aug 2002 07:34:07 -0400\n",
            "Received: from ratree.psu.ac.th ([202.28.97.6]) by mx1.spamassassin.taint.org\n",
            "    (8.11.6/8.11.6) with SMTP id g7MBIhl25223 for <exmh-workers@redhat.com>;\n",
            "    Thu, 22 Aug 2002 07:18:55 -0400\n",
            "Received: from delta.cs.mu.OZ.AU (delta.coe.psu.ac.th [172.30.0.98]) by\n",
            "    ratree.psu.ac.th (8.11.6/8.11.6) with ESMTP id g7MBWel29762;\n",
            "    Thu, 22 Aug 2002 18:32:40 +0700 (ICT)\n",
            "Received: from munnari.OZ.AU (localhost [127.0.0.1]) by delta.cs.mu.OZ.AU\n",
            "    (8.11.6/8.11.6) with ESMTP id g7MBQPW13260; Thu, 22 Aug 2002 18:26:25\n",
            "    +0700 (ICT)\n",
            "From: Robert Elz <kre@munnari.OZ.AU>\n",
            "To: Chris Garrigues <cwg-dated-1030377287.06fa6d@DeepEddy.Com>\n",
            "Cc: exmh-workers@spamassassin.taint.org\n",
            "Subject: Re: New Sequences Window\n",
            "In-Reply-To: <1029945287.4797.TMDA@deepeddy.vircio.com>\n",
            "References: <1029945287.4797.TMDA@deepeddy.vircio.com>\n",
            "    <1029882468.3116.TMDA@deepeddy.vircio.com> <9627.1029933001@munnari.OZ.AU>\n",
            "    <1029943066.26919.TMDA@deepeddy.vircio.com>\n",
            "    <1029944441.398.TMDA@deepeddy.vircio.com>\n",
            "MIME-Version: 1.0\n",
            "Content-Type: text/plain; charset=us-ascii\n",
            "Message-Id: <13258.1030015585@munnari.OZ.AU>\n",
            "X-Loop: exmh-workers@spamassassin.taint.org\n",
            "Sender: exmh-workers-admin@spamassassin.taint.org\n",
            "Errors-To: exmh-workers-admin@spamassassin.taint.org\n",
            "X-Beenthere: exmh-workers@spamassassin.taint.org\n",
            "X-Mailman-Version: 2.0.1\n",
            "Precedence: bulk\n",
            "List-Help: <mailto:exmh-workers-request@spamassassin.taint.org?subject=help>\n",
            "List-Post: <mailto:exmh-workers@spamassassin.taint.org>\n",
            "List-Subscribe: <https://listman.spamassassin.taint.org/mailman/listinfo/exmh-workers>,\n",
            "    <mailto:exmh-workers-request@redhat.com?subject=subscribe>\n",
            "List-Id: Discussion list for EXMH developers <exmh-workers.spamassassin.taint.org>\n",
            "List-Unsubscribe: <https://listman.spamassassin.taint.org/mailman/listinfo/exmh-workers>,\n",
            "    <mailto:exmh-workers-request@redhat.com?subject=unsubscribe>\n",
            "List-Archive: <https://listman.spamassassin.taint.org/mailman/private/exmh-workers/>\n",
            "Date: Thu, 22 Aug 2002 18:26:25 +0700\n",
            "\n",
            "\n",
            "Dear Mr Still\n",
            "\n",
            "Good tidings to you and all your staff for the festive season ahead (Christmas).\n",
            "Now to the crux of the matter-in-hand: I am a fully qualified Santa Claus and am wondering whether you might consider me to run my own \"Santa's Grotto\" in your store.\n",
            "But WAIT! You're probably thinking: \"What makes him so special?\"\n",
            "Well, first of all, I have made several changes to the characterisation of Father Christmas. Rather than greeting the children with shouts of \"Ho, ho, ho!\" I prefer to whisper the phrase \"Dependence is not unfathomable in this cruel world we live in\". In addition, my gifts are ALL hand-made, ranging from felt hoops to vanilla-pod holders.\n",
            "You will note also, from the enclosed sketch, that I have radically redesigned Santa's outfit and have renamed my character \"Lord Buckles\". Would you be interested in employing me? I promise NEVER to let you down.\n",
            "I look forward to hearing from you.\n",
            "\n",
            "Best wishes\n",
            "Robin Cooper\n",
            "[Excerpt from the book: The Timewaster Letters by Robin Cooper]\n",
            "\n"
          ],
          "name": "stdout"
        }
      ]
    },
    {
      "cell_type": "code",
      "metadata": {
        "colab": {
          "base_uri": "https://localhost:8080/",
          "height": 35
        },
        "id": "PfH_GuC8BQal",
        "outputId": "add23a63-08d3-4b1b-a1ef-1627b72cae23"
      },
      "source": [
        "import sys\n",
        "sys.getfilesystemencoding()"
      ],
      "execution_count": 6,
      "outputs": [
        {
          "output_type": "execute_result",
          "data": {
            "application/vnd.google.colaboratory.intrinsic+json": {
              "type": "string"
            },
            "text/plain": [
              "'utf-8'"
            ]
          },
          "metadata": {
            "tags": []
          },
          "execution_count": 6
        }
      ]
    },
    {
      "cell_type": "code",
      "metadata": {
        "id": "L6SvANySBS0y"
      },
      "source": [
        ""
      ],
      "execution_count": 6,
      "outputs": []
    },
    {
      "cell_type": "code",
      "metadata": {
        "colab": {
          "base_uri": "https://localhost:8080/"
        },
        "id": "gjkj1BYgwdmY",
        "outputId": "94867470-8756-4c31-93e9-b6dd08509a83"
      },
      "source": [
        "stream = open(EXAMPLE_FILE, encoding='latin-1')\n",
        "\n",
        "is_body = False\n",
        "lines = []\n",
        "\n",
        "for line in stream:\n",
        "    if is_body:\n",
        "        lines.append(line)\n",
        "    elif line == \"\\n\":\n",
        "        is_body = True\n",
        "\n",
        "stream.close()\n",
        "\n",
        "#email_body = \"\\n\".join(lines)\n",
        "#print(email_body)\n",
        "\n",
        "print(lines)"
      ],
      "execution_count": 7,
      "outputs": [
        {
          "output_type": "stream",
          "text": [
            "['\\n', 'Dear Mr Still\\n', '\\n', 'Good tidings to you and all your staff for the festive season ahead (Christmas).\\n', 'Now to the crux of the matter-in-hand: I am a fully qualified Santa Claus and am wondering whether you might consider me to run my own \"Santa\\'s Grotto\" in your store.\\n', 'But WAIT! You\\'re probably thinking: \"What makes him so special?\"\\n', 'Well, first of all, I have made several changes to the characterisation of Father Christmas. Rather than greeting the children with shouts of \"Ho, ho, ho!\" I prefer to whisper the phrase \"Dependence is not unfathomable in this cruel world we live in\". In addition, my gifts are ALL hand-made, ranging from felt hoops to vanilla-pod holders.\\n', 'You will note also, from the enclosed sketch, that I have radically redesigned Santa\\'s outfit and have renamed my character \"Lord Buckles\". Would you be interested in employing me? I promise NEVER to let you down.\\n', 'I look forward to hearing from you.\\n', '\\n', 'Best wishes\\n', 'Robin Cooper\\n', '[Excerpt from the book: The Timewaster Letters by Robin Cooper]\\n']\n"
          ],
          "name": "stdout"
        }
      ]
    },
    {
      "cell_type": "markdown",
      "metadata": {
        "id": "BEknL9d2BVyx"
      },
      "source": [
        "# Generator Functions"
      ]
    },
    {
      "cell_type": "code",
      "metadata": {
        "id": "k5xm1P_7xoMB"
      },
      "source": [
        "def generate_squares(N):\n",
        "    for my_number in range(N):\n",
        "        yield my_number ** 2"
      ],
      "execution_count": 8,
      "outputs": []
    },
    {
      "cell_type": "code",
      "metadata": {
        "colab": {
          "base_uri": "https://localhost:8080/"
        },
        "id": "dne9Epp6xxVK",
        "outputId": "654221c9-dfc5-4735-a180-81027b0f4155"
      },
      "source": [
        "for i in generate_squares(5):\n",
        "    print(i, end=' ->')"
      ],
      "execution_count": 9,
      "outputs": [
        {
          "output_type": "stream",
          "text": [
            "0 ->1 ->4 ->9 ->16 ->"
          ],
          "name": "stdout"
        }
      ]
    },
    {
      "cell_type": "markdown",
      "metadata": {
        "id": "gbXCEEuFx_ph"
      },
      "source": [
        "## Email body extraction"
      ]
    },
    {
      "cell_type": "code",
      "metadata": {
        "id": "_AfKRG-LyjcY"
      },
      "source": [
        "def email_body_generator(path):\n",
        "    \n",
        "    for root, dirnames, filenames in walk(path):\n",
        "\n",
        "        for file_name in filenames:\n",
        "\n",
        "            filepath = join(root, file_name)\n",
        "\n",
        "            stream = open(filepath, encoding='latin-1')\n",
        "\n",
        "            is_body = False\n",
        "            lines = []\n",
        "\n",
        "            for line in stream:\n",
        "                if is_body:\n",
        "                    lines.append(line)\n",
        "                elif line == \"\\n\":\n",
        "                    is_body = True\n",
        "\n",
        "            stream.close()\n",
        "\n",
        "            email_body = \"\\n\".join(lines)\n",
        "            \n",
        "            yield file_name, email_body"
      ],
      "execution_count": 10,
      "outputs": []
    },
    {
      "cell_type": "code",
      "metadata": {
        "id": "FuZnBYPc0BLS"
      },
      "source": [
        "def df_from_directory(path, classification):\n",
        "    rows = []\n",
        "    row_names = []\n",
        "    for file_name, email_body in email_body_generator(path):\n",
        "        rows.append({'MESSAGE': email_body, 'CATEGORY': classification})\n",
        "        row_names.append(file_name)\n",
        "    return pd.DataFrame(rows, index=row_names)"
      ],
      "execution_count": 11,
      "outputs": []
    },
    {
      "cell_type": "code",
      "metadata": {
        "colab": {
          "base_uri": "https://localhost:8080/",
          "height": 0
        },
        "id": "HrrgBiJf0xoi",
        "outputId": "742cc9bb-6df3-40fb-d9ee-31e0525599da"
      },
      "source": [
        "spam_emails = df_from_directory(SPAM_1_PATH, SPAM_CAT)\n",
        "spam_emails = spam_emails.append(df_from_directory(SPAM_2_PATH, SPAM_CAT))\n",
        "\n",
        "spam_emails.head()"
      ],
      "execution_count": 12,
      "outputs": [
        {
          "output_type": "execute_result",
          "data": {
            "text/html": [
              "<div>\n",
              "<style scoped>\n",
              "    .dataframe tbody tr th:only-of-type {\n",
              "        vertical-align: middle;\n",
              "    }\n",
              "\n",
              "    .dataframe tbody tr th {\n",
              "        vertical-align: top;\n",
              "    }\n",
              "\n",
              "    .dataframe thead th {\n",
              "        text-align: right;\n",
              "    }\n",
              "</style>\n",
              "<table border=\"1\" class=\"dataframe\">\n",
              "  <thead>\n",
              "    <tr style=\"text-align: right;\">\n",
              "      <th></th>\n",
              "      <th>MESSAGE</th>\n",
              "      <th>CATEGORY</th>\n",
              "    </tr>\n",
              "  </thead>\n",
              "  <tbody>\n",
              "    <tr>\n",
              "      <th>00093.ca4edc32d2ff8e1dbb5f9c0b15ec435b</th>\n",
              "      <td>Get your favorite Poker action at http://www.m...</td>\n",
              "      <td>1</td>\n",
              "    </tr>\n",
              "    <tr>\n",
              "      <th>00050.45de99e8c120fddafe7c89fb3de1c14f</th>\n",
              "      <td>&lt;html&gt;\\n\\n&lt;head&gt;\\n\\n&lt;/head&gt;\\n\\n&lt;body&gt;\\n\\n\\n\\n&lt;...</td>\n",
              "      <td>1</td>\n",
              "    </tr>\n",
              "    <tr>\n",
              "      <th>00022.8203cdf03888f656dc0381701148f73d</th>\n",
              "      <td>--===_SecAtt_000_1fheucnqggtggp\\n\\nContent-Typ...</td>\n",
              "      <td>1</td>\n",
              "    </tr>\n",
              "    <tr>\n",
              "      <th>00408.22230b84aee00e439ae1938e025d5005</th>\n",
              "      <td>\\n\\n&lt;html&gt;\\n\\n&lt;body bgcolor=\"#FFFFFF\"&gt;\\n\\n&lt;TAB...</td>\n",
              "      <td>1</td>\n",
              "    </tr>\n",
              "    <tr>\n",
              "      <th>00364.11dba84b95e0471927d1ebc8ff0017ef</th>\n",
              "      <td>&lt;META HTTP-EQUIV=\"Content-Type\" CONTENT=\"text/...</td>\n",
              "      <td>1</td>\n",
              "    </tr>\n",
              "  </tbody>\n",
              "</table>\n",
              "</div>"
            ],
            "text/plain": [
              "                                                                                  MESSAGE  CATEGORY\n",
              "00093.ca4edc32d2ff8e1dbb5f9c0b15ec435b  Get your favorite Poker action at http://www.m...         1\n",
              "00050.45de99e8c120fddafe7c89fb3de1c14f  <html>\\n\\n<head>\\n\\n</head>\\n\\n<body>\\n\\n\\n\\n<...         1\n",
              "00022.8203cdf03888f656dc0381701148f73d  --===_SecAtt_000_1fheucnqggtggp\\n\\nContent-Typ...         1\n",
              "00408.22230b84aee00e439ae1938e025d5005  \\n\\n<html>\\n\\n<body bgcolor=\"#FFFFFF\">\\n\\n<TAB...         1\n",
              "00364.11dba84b95e0471927d1ebc8ff0017ef  <META HTTP-EQUIV=\"Content-Type\" CONTENT=\"text/...         1"
            ]
          },
          "metadata": {
            "tags": []
          },
          "execution_count": 12
        }
      ]
    },
    {
      "cell_type": "code",
      "metadata": {
        "colab": {
          "base_uri": "https://localhost:8080/"
        },
        "id": "FUX_Mnfe1hTP",
        "outputId": "8e74f170-117a-477e-82af-0e9bee020941"
      },
      "source": [
        "spam_emails.shape"
      ],
      "execution_count": 13,
      "outputs": [
        {
          "output_type": "execute_result",
          "data": {
            "text/plain": [
              "(1898, 2)"
            ]
          },
          "metadata": {
            "tags": []
          },
          "execution_count": 13
        }
      ]
    },
    {
      "cell_type": "code",
      "metadata": {
        "colab": {
          "base_uri": "https://localhost:8080/",
          "height": 0
        },
        "id": "5jWNU3tO2LqV",
        "outputId": "981ffab9-d937-44d0-c678-f56ef4513298"
      },
      "source": [
        "ham_emails = df_from_directory(EASY_NONSPAM_1_PATH, HAM_CAT)\n",
        "ham_emails = ham_emails.append(df_from_directory(EASY_NONSPAM_2_PATH, HAM_CAT))\n",
        "\n",
        "ham_emails.head()"
      ],
      "execution_count": 14,
      "outputs": [
        {
          "output_type": "execute_result",
          "data": {
            "text/html": [
              "<div>\n",
              "<style scoped>\n",
              "    .dataframe tbody tr th:only-of-type {\n",
              "        vertical-align: middle;\n",
              "    }\n",
              "\n",
              "    .dataframe tbody tr th {\n",
              "        vertical-align: top;\n",
              "    }\n",
              "\n",
              "    .dataframe thead th {\n",
              "        text-align: right;\n",
              "    }\n",
              "</style>\n",
              "<table border=\"1\" class=\"dataframe\">\n",
              "  <thead>\n",
              "    <tr style=\"text-align: right;\">\n",
              "      <th></th>\n",
              "      <th>MESSAGE</th>\n",
              "      <th>CATEGORY</th>\n",
              "    </tr>\n",
              "  </thead>\n",
              "  <tbody>\n",
              "    <tr>\n",
              "      <th>02351.d6b3bc2bb32bd4a790e07be3bc9c8bb0</th>\n",
              "      <td>URL: http://boingboing.net/#85534163\\n\\nDate: ...</td>\n",
              "      <td>0</td>\n",
              "    </tr>\n",
              "    <tr>\n",
              "      <th>01945.68b0cc1d272dc3bc3bffcb3112379650</th>\n",
              "      <td>URL: http://www.mozillazine.org/weblogs/hyatt/...</td>\n",
              "      <td>0</td>\n",
              "    </tr>\n",
              "    <tr>\n",
              "      <th>01429.6d9cae984e2f92f32d70594f5cc37c87</th>\n",
              "      <td>http://www.hughes-family.org/bugzilla/show_bug...</td>\n",
              "      <td>0</td>\n",
              "    </tr>\n",
              "    <tr>\n",
              "      <th>01193.5b3aa2609dfb823e754b1407d451f97f</th>\n",
              "      <td>Once upon a time, Thomas wrote :\\n\\n\\n\\n&gt; &gt; On...</td>\n",
              "      <td>0</td>\n",
              "    </tr>\n",
              "    <tr>\n",
              "      <th>01468.a68ebe03295c662d692e89930e88d07e</th>\n",
              "      <td>This is a multi-part message in MIME format.\\n...</td>\n",
              "      <td>0</td>\n",
              "    </tr>\n",
              "  </tbody>\n",
              "</table>\n",
              "</div>"
            ],
            "text/plain": [
              "                                                                                  MESSAGE  CATEGORY\n",
              "02351.d6b3bc2bb32bd4a790e07be3bc9c8bb0  URL: http://boingboing.net/#85534163\\n\\nDate: ...         0\n",
              "01945.68b0cc1d272dc3bc3bffcb3112379650  URL: http://www.mozillazine.org/weblogs/hyatt/...         0\n",
              "01429.6d9cae984e2f92f32d70594f5cc37c87  http://www.hughes-family.org/bugzilla/show_bug...         0\n",
              "01193.5b3aa2609dfb823e754b1407d451f97f  Once upon a time, Thomas wrote :\\n\\n\\n\\n> > On...         0\n",
              "01468.a68ebe03295c662d692e89930e88d07e  This is a multi-part message in MIME format.\\n...         0"
            ]
          },
          "metadata": {
            "tags": []
          },
          "execution_count": 14
        }
      ]
    },
    {
      "cell_type": "code",
      "metadata": {
        "colab": {
          "base_uri": "https://localhost:8080/"
        },
        "id": "3bf10YZc2VXb",
        "outputId": "375bb444-875c-4ceb-db2d-da986bc75d29"
      },
      "source": [
        "ham_emails.shape"
      ],
      "execution_count": 15,
      "outputs": [
        {
          "output_type": "execute_result",
          "data": {
            "text/plain": [
              "(3901, 2)"
            ]
          },
          "metadata": {
            "tags": []
          },
          "execution_count": 15
        }
      ]
    },
    {
      "cell_type": "code",
      "metadata": {
        "colab": {
          "base_uri": "https://localhost:8080/",
          "height": 0
        },
        "id": "jydJiDST-979",
        "outputId": "fcc8a917-f5c3-4bdb-cc6a-a597b4c3c86c"
      },
      "source": [
        "data = pd.concat([spam_emails, ham_emails])\n",
        "print(\"Shape of entire dataframe is \", data.shape)\n",
        "data.head()"
      ],
      "execution_count": 16,
      "outputs": [
        {
          "output_type": "stream",
          "text": [
            "Shape of entire dataframe is  (5799, 2)\n"
          ],
          "name": "stdout"
        },
        {
          "output_type": "execute_result",
          "data": {
            "text/html": [
              "<div>\n",
              "<style scoped>\n",
              "    .dataframe tbody tr th:only-of-type {\n",
              "        vertical-align: middle;\n",
              "    }\n",
              "\n",
              "    .dataframe tbody tr th {\n",
              "        vertical-align: top;\n",
              "    }\n",
              "\n",
              "    .dataframe thead th {\n",
              "        text-align: right;\n",
              "    }\n",
              "</style>\n",
              "<table border=\"1\" class=\"dataframe\">\n",
              "  <thead>\n",
              "    <tr style=\"text-align: right;\">\n",
              "      <th></th>\n",
              "      <th>MESSAGE</th>\n",
              "      <th>CATEGORY</th>\n",
              "    </tr>\n",
              "  </thead>\n",
              "  <tbody>\n",
              "    <tr>\n",
              "      <th>00093.ca4edc32d2ff8e1dbb5f9c0b15ec435b</th>\n",
              "      <td>Get your favorite Poker action at http://www.m...</td>\n",
              "      <td>1</td>\n",
              "    </tr>\n",
              "    <tr>\n",
              "      <th>00050.45de99e8c120fddafe7c89fb3de1c14f</th>\n",
              "      <td>&lt;html&gt;\\n\\n&lt;head&gt;\\n\\n&lt;/head&gt;\\n\\n&lt;body&gt;\\n\\n\\n\\n&lt;...</td>\n",
              "      <td>1</td>\n",
              "    </tr>\n",
              "    <tr>\n",
              "      <th>00022.8203cdf03888f656dc0381701148f73d</th>\n",
              "      <td>--===_SecAtt_000_1fheucnqggtggp\\n\\nContent-Typ...</td>\n",
              "      <td>1</td>\n",
              "    </tr>\n",
              "    <tr>\n",
              "      <th>00408.22230b84aee00e439ae1938e025d5005</th>\n",
              "      <td>\\n\\n&lt;html&gt;\\n\\n&lt;body bgcolor=\"#FFFFFF\"&gt;\\n\\n&lt;TAB...</td>\n",
              "      <td>1</td>\n",
              "    </tr>\n",
              "    <tr>\n",
              "      <th>00364.11dba84b95e0471927d1ebc8ff0017ef</th>\n",
              "      <td>&lt;META HTTP-EQUIV=\"Content-Type\" CONTENT=\"text/...</td>\n",
              "      <td>1</td>\n",
              "    </tr>\n",
              "  </tbody>\n",
              "</table>\n",
              "</div>"
            ],
            "text/plain": [
              "                                                                                  MESSAGE  CATEGORY\n",
              "00093.ca4edc32d2ff8e1dbb5f9c0b15ec435b  Get your favorite Poker action at http://www.m...         1\n",
              "00050.45de99e8c120fddafe7c89fb3de1c14f  <html>\\n\\n<head>\\n\\n</head>\\n\\n<body>\\n\\n\\n\\n<...         1\n",
              "00022.8203cdf03888f656dc0381701148f73d  --===_SecAtt_000_1fheucnqggtggp\\n\\nContent-Typ...         1\n",
              "00408.22230b84aee00e439ae1938e025d5005  \\n\\n<html>\\n\\n<body bgcolor=\"#FFFFFF\">\\n\\n<TAB...         1\n",
              "00364.11dba84b95e0471927d1ebc8ff0017ef  <META HTTP-EQUIV=\"Content-Type\" CONTENT=\"text/...         1"
            ]
          },
          "metadata": {
            "tags": []
          },
          "execution_count": 16
        }
      ]
    },
    {
      "cell_type": "markdown",
      "metadata": {
        "id": "JaUPfG4H_ZiE"
      },
      "source": [
        "# Data Cleaning: Checking for Missing Values"
      ]
    },
    {
      "cell_type": "code",
      "metadata": {
        "colab": {
          "base_uri": "https://localhost:8080/"
        },
        "id": "sYQoaSCi_h2p",
        "outputId": "ce867886-1db7-4736-dfc5-1b55785332ab"
      },
      "source": [
        "# check if any message bodies are null\n",
        "data['MESSAGE'].isnull().values.any()"
      ],
      "execution_count": 17,
      "outputs": [
        {
          "output_type": "execute_result",
          "data": {
            "text/plain": [
              "False"
            ]
          },
          "metadata": {
            "tags": []
          },
          "execution_count": 17
        }
      ]
    },
    {
      "cell_type": "code",
      "metadata": {
        "colab": {
          "base_uri": "https://localhost:8080/"
        },
        "id": "0jmBvl60Af-Q",
        "outputId": "18da3686-3041-47c3-cefe-97ac21b299cb"
      },
      "source": [
        "# check if there are empty emails (string length zero)\n",
        "(data.MESSAGE.str.len() == 0).any()"
      ],
      "execution_count": 18,
      "outputs": [
        {
          "output_type": "execute_result",
          "data": {
            "text/plain": [
              "True"
            ]
          },
          "metadata": {
            "tags": []
          },
          "execution_count": 18
        }
      ]
    },
    {
      "cell_type": "code",
      "metadata": {
        "colab": {
          "base_uri": "https://localhost:8080/"
        },
        "id": "XXSoyWUh925u",
        "outputId": "cf5aca4f-c1a8-446b-f53d-52ea9bf7de68"
      },
      "source": [
        "(data.MESSAGE.str.len() == 0).sum()"
      ],
      "execution_count": 19,
      "outputs": [
        {
          "output_type": "execute_result",
          "data": {
            "text/plain": [
              "3"
            ]
          },
          "metadata": {
            "tags": []
          },
          "execution_count": 19
        }
      ]
    },
    {
      "cell_type": "markdown",
      "metadata": {
        "id": "cp19uXAQ9_Kg"
      },
      "source": [
        "### Locate empty emails"
      ]
    },
    {
      "cell_type": "code",
      "metadata": {
        "colab": {
          "base_uri": "https://localhost:8080/"
        },
        "id": "NIDlNVwF-RZv",
        "outputId": "fbb3c8fc-9001-4dc8-e8a0-0b2f91f60e78"
      },
      "source": [
        "data[data.MESSAGE.str.len() == 0].index"
      ],
      "execution_count": 20,
      "outputs": [
        {
          "output_type": "execute_result",
          "data": {
            "text/plain": [
              "Index(['cmds', 'cmds', 'cmds'], dtype='object')"
            ]
          },
          "metadata": {
            "tags": []
          },
          "execution_count": 20
        }
      ]
    },
    {
      "cell_type": "code",
      "metadata": {
        "colab": {
          "base_uri": "https://localhost:8080/"
        },
        "id": "AQG_7x81-ZZv",
        "outputId": "0804a013-d6e3-42b2-bdbf-fc62ef7e98a9"
      },
      "source": [
        "data.index.get_loc('cmds')"
      ],
      "execution_count": 21,
      "outputs": [
        {
          "output_type": "execute_result",
          "data": {
            "text/plain": [
              "array([False, False, False, ..., False, False, False])"
            ]
          },
          "metadata": {
            "tags": []
          },
          "execution_count": 21
        }
      ]
    },
    {
      "cell_type": "markdown",
      "metadata": {
        "id": "Bfc_M79k-9ca"
      },
      "source": [
        "# Remove System File Entries from Dataframe"
      ]
    },
    {
      "cell_type": "code",
      "metadata": {
        "id": "b3DIbRaV_Ub7"
      },
      "source": [
        "data.drop(['cmds'], inplace=True)"
      ],
      "execution_count": 22,
      "outputs": []
    },
    {
      "cell_type": "code",
      "metadata": {
        "colab": {
          "base_uri": "https://localhost:8080/"
        },
        "id": "vDwLWstX_gj2",
        "outputId": "302671de-c1f1-44d5-993a-14b9fcf5f5de"
      },
      "source": [
        "data.shape"
      ],
      "execution_count": 23,
      "outputs": [
        {
          "output_type": "execute_result",
          "data": {
            "text/plain": [
              "(5796, 2)"
            ]
          },
          "metadata": {
            "tags": []
          },
          "execution_count": 23
        }
      ]
    },
    {
      "cell_type": "markdown",
      "metadata": {
        "id": "nKaDWhNH_pM5"
      },
      "source": [
        "# Add Document IDs to Track Emails in Dataset"
      ]
    },
    {
      "cell_type": "code",
      "metadata": {
        "id": "JZ6qqbNL_i3H"
      },
      "source": [
        "document_ids = range(0, len(data.index))\n",
        "data['DOC_ID'] = document_ids"
      ],
      "execution_count": 24,
      "outputs": []
    },
    {
      "cell_type": "code",
      "metadata": {
        "colab": {
          "base_uri": "https://localhost:8080/",
          "height": 235
        },
        "id": "072rfAKY_zh0",
        "outputId": "45e8b764-ea77-4813-9c50-b1e61df70cb6"
      },
      "source": [
        "data['FILE_NAME'] = data.index\n",
        "data.set_index('DOC_ID', inplace=True)\n",
        "data.head()"
      ],
      "execution_count": 25,
      "outputs": [
        {
          "output_type": "execute_result",
          "data": {
            "text/html": [
              "<div>\n",
              "<style scoped>\n",
              "    .dataframe tbody tr th:only-of-type {\n",
              "        vertical-align: middle;\n",
              "    }\n",
              "\n",
              "    .dataframe tbody tr th {\n",
              "        vertical-align: top;\n",
              "    }\n",
              "\n",
              "    .dataframe thead th {\n",
              "        text-align: right;\n",
              "    }\n",
              "</style>\n",
              "<table border=\"1\" class=\"dataframe\">\n",
              "  <thead>\n",
              "    <tr style=\"text-align: right;\">\n",
              "      <th></th>\n",
              "      <th>MESSAGE</th>\n",
              "      <th>CATEGORY</th>\n",
              "      <th>FILE_NAME</th>\n",
              "    </tr>\n",
              "    <tr>\n",
              "      <th>DOC_ID</th>\n",
              "      <th></th>\n",
              "      <th></th>\n",
              "      <th></th>\n",
              "    </tr>\n",
              "  </thead>\n",
              "  <tbody>\n",
              "    <tr>\n",
              "      <th>0</th>\n",
              "      <td>Get your favorite Poker action at http://www.m...</td>\n",
              "      <td>1</td>\n",
              "      <td>00093.ca4edc32d2ff8e1dbb5f9c0b15ec435b</td>\n",
              "    </tr>\n",
              "    <tr>\n",
              "      <th>1</th>\n",
              "      <td>&lt;html&gt;\\n\\n&lt;head&gt;\\n\\n&lt;/head&gt;\\n\\n&lt;body&gt;\\n\\n\\n\\n&lt;...</td>\n",
              "      <td>1</td>\n",
              "      <td>00050.45de99e8c120fddafe7c89fb3de1c14f</td>\n",
              "    </tr>\n",
              "    <tr>\n",
              "      <th>2</th>\n",
              "      <td>--===_SecAtt_000_1fheucnqggtggp\\n\\nContent-Typ...</td>\n",
              "      <td>1</td>\n",
              "      <td>00022.8203cdf03888f656dc0381701148f73d</td>\n",
              "    </tr>\n",
              "    <tr>\n",
              "      <th>3</th>\n",
              "      <td>\\n\\n&lt;html&gt;\\n\\n&lt;body bgcolor=\"#FFFFFF\"&gt;\\n\\n&lt;TAB...</td>\n",
              "      <td>1</td>\n",
              "      <td>00408.22230b84aee00e439ae1938e025d5005</td>\n",
              "    </tr>\n",
              "    <tr>\n",
              "      <th>4</th>\n",
              "      <td>&lt;META HTTP-EQUIV=\"Content-Type\" CONTENT=\"text/...</td>\n",
              "      <td>1</td>\n",
              "      <td>00364.11dba84b95e0471927d1ebc8ff0017ef</td>\n",
              "    </tr>\n",
              "  </tbody>\n",
              "</table>\n",
              "</div>"
            ],
            "text/plain": [
              "                                                  MESSAGE  ...                               FILE_NAME\n",
              "DOC_ID                                                     ...                                        \n",
              "0       Get your favorite Poker action at http://www.m...  ...  00093.ca4edc32d2ff8e1dbb5f9c0b15ec435b\n",
              "1       <html>\\n\\n<head>\\n\\n</head>\\n\\n<body>\\n\\n\\n\\n<...  ...  00050.45de99e8c120fddafe7c89fb3de1c14f\n",
              "2       --===_SecAtt_000_1fheucnqggtggp\\n\\nContent-Typ...  ...  00022.8203cdf03888f656dc0381701148f73d\n",
              "3       \\n\\n<html>\\n\\n<body bgcolor=\"#FFFFFF\">\\n\\n<TAB...  ...  00408.22230b84aee00e439ae1938e025d5005\n",
              "4       <META HTTP-EQUIV=\"Content-Type\" CONTENT=\"text/...  ...  00364.11dba84b95e0471927d1ebc8ff0017ef\n",
              "\n",
              "[5 rows x 3 columns]"
            ]
          },
          "metadata": {
            "tags": []
          },
          "execution_count": 25
        }
      ]
    },
    {
      "cell_type": "code",
      "metadata": {
        "colab": {
          "base_uri": "https://localhost:8080/",
          "height": 235
        },
        "id": "T2PQFYD4_6M1",
        "outputId": "46bfe809-f67b-4c82-f6f8-470478dc661c"
      },
      "source": [
        "data.tail()"
      ],
      "execution_count": 26,
      "outputs": [
        {
          "output_type": "execute_result",
          "data": {
            "text/html": [
              "<div>\n",
              "<style scoped>\n",
              "    .dataframe tbody tr th:only-of-type {\n",
              "        vertical-align: middle;\n",
              "    }\n",
              "\n",
              "    .dataframe tbody tr th {\n",
              "        vertical-align: top;\n",
              "    }\n",
              "\n",
              "    .dataframe thead th {\n",
              "        text-align: right;\n",
              "    }\n",
              "</style>\n",
              "<table border=\"1\" class=\"dataframe\">\n",
              "  <thead>\n",
              "    <tr style=\"text-align: right;\">\n",
              "      <th></th>\n",
              "      <th>MESSAGE</th>\n",
              "      <th>CATEGORY</th>\n",
              "      <th>FILE_NAME</th>\n",
              "    </tr>\n",
              "    <tr>\n",
              "      <th>DOC_ID</th>\n",
              "      <th></th>\n",
              "      <th></th>\n",
              "      <th></th>\n",
              "    </tr>\n",
              "  </thead>\n",
              "  <tbody>\n",
              "    <tr>\n",
              "      <th>5791</th>\n",
              "      <td>-----BEGIN PGP SIGNED MESSAGE-----\\n\\nHash: SH...</td>\n",
              "      <td>0</td>\n",
              "      <td>00564.5d9d3d4ebddcd338604ae63d5b01f037</td>\n",
              "    </tr>\n",
              "    <tr>\n",
              "      <th>5792</th>\n",
              "      <td>On Sun, 21 Jul 2002 15:12:11 -0400, che &lt;che66...</td>\n",
              "      <td>0</td>\n",
              "      <td>01147.d239448a535755047478e750e99c64b7</td>\n",
              "    </tr>\n",
              "    <tr>\n",
              "      <th>5793</th>\n",
              "      <td>\\n\\nIs there a relatively clean way to dynamic...</td>\n",
              "      <td>0</td>\n",
              "      <td>00682.ed1e8972923a1eb98875e4a2b87f6f60</td>\n",
              "    </tr>\n",
              "    <tr>\n",
              "      <th>5794</th>\n",
              "      <td>On Fri 19 Jul 2002 12:41, Wynne, Conor wrote:\\...</td>\n",
              "      <td>0</td>\n",
              "      <td>00027.c9e76a75d21f9221d65d4d577a2cfb75</td>\n",
              "    </tr>\n",
              "    <tr>\n",
              "      <th>5795</th>\n",
              "      <td>On 12/08/02 22:38 -0400, Sven wrote:\\n\\n) \\n\\n...</td>\n",
              "      <td>0</td>\n",
              "      <td>00628.f03f3008b1f1621e0df41f75d5ffcd58</td>\n",
              "    </tr>\n",
              "  </tbody>\n",
              "</table>\n",
              "</div>"
            ],
            "text/plain": [
              "                                                  MESSAGE  ...                               FILE_NAME\n",
              "DOC_ID                                                     ...                                        \n",
              "5791    -----BEGIN PGP SIGNED MESSAGE-----\\n\\nHash: SH...  ...  00564.5d9d3d4ebddcd338604ae63d5b01f037\n",
              "5792    On Sun, 21 Jul 2002 15:12:11 -0400, che <che66...  ...  01147.d239448a535755047478e750e99c64b7\n",
              "5793    \\n\\nIs there a relatively clean way to dynamic...  ...  00682.ed1e8972923a1eb98875e4a2b87f6f60\n",
              "5794    On Fri 19 Jul 2002 12:41, Wynne, Conor wrote:\\...  ...  00027.c9e76a75d21f9221d65d4d577a2cfb75\n",
              "5795    On 12/08/02 22:38 -0400, Sven wrote:\\n\\n) \\n\\n...  ...  00628.f03f3008b1f1621e0df41f75d5ffcd58\n",
              "\n",
              "[5 rows x 3 columns]"
            ]
          },
          "metadata": {
            "tags": []
          },
          "execution_count": 26
        }
      ]
    },
    {
      "cell_type": "markdown",
      "metadata": {
        "id": "uW37wrSKAUo4"
      },
      "source": [
        "# Save to File using Pandas"
      ]
    },
    {
      "cell_type": "code",
      "metadata": {
        "id": "VowFu12uAqFL"
      },
      "source": [
        "data.to_json(DATA_JSON_FILE)"
      ],
      "execution_count": 27,
      "outputs": []
    },
    {
      "cell_type": "markdown",
      "metadata": {
        "id": "iTno5ySBA84-"
      },
      "source": [
        "# Number of Spam Messages Visualised (Pie Charts)"
      ]
    },
    {
      "cell_type": "code",
      "metadata": {
        "colab": {
          "base_uri": "https://localhost:8080/"
        },
        "id": "QAX6c6_cBsv-",
        "outputId": "306e701b-d186-4386-a61b-6589cb7d5532"
      },
      "source": [
        "data.CATEGORY.value_counts()"
      ],
      "execution_count": 28,
      "outputs": [
        {
          "output_type": "execute_result",
          "data": {
            "text/plain": [
              "0    3900\n",
              "1    1896\n",
              "Name: CATEGORY, dtype: int64"
            ]
          },
          "metadata": {
            "tags": []
          },
          "execution_count": 28
        }
      ]
    },
    {
      "cell_type": "code",
      "metadata": {
        "id": "hoi2H6s7Bu7F"
      },
      "source": [
        "amount_of_spam = data.CATEGORY.value_counts()[1]\n",
        "amount_of_ham = data.CATEGORY.value_counts()[0]"
      ],
      "execution_count": 29,
      "outputs": []
    },
    {
      "cell_type": "code",
      "metadata": {
        "colab": {
          "base_uri": "https://localhost:8080/",
          "height": 405
        },
        "id": "x4Aehm2cB585",
        "outputId": "61238aa3-d1cf-425c-80fd-c113647a7a22"
      },
      "source": [
        "category_names = ['Spam', \"Legit Mail\"]\n",
        "sizes = [amount_of_spam, amount_of_ham]\n",
        "\n",
        "plt.figure(figsize=(2,2), dpi=227)\n",
        "plt.pie(sizes, labels=category_names, textprops={'fontsize': 6}, startangle=90,\n",
        "        autopct='%1.0f%%')\n",
        "plt.show()"
      ],
      "execution_count": 30,
      "outputs": [
        {
          "output_type": "display_data",
          "data": {
            "image/png": "[encoded data removed]",
            "text/plain": [
              "<Figure size 454x454 with 1 Axes>"
            ]
          },
          "metadata": {
            "tags": []
          }
        }
      ]
    },
    {
      "cell_type": "code",
      "metadata": {
        "colab": {
          "base_uri": "https://localhost:8080/",
          "height": 405
        },
        "id": "RiPy9rKTCfY9",
        "outputId": "5ee25945-4bd9-411c-a562-f90c964563be"
      },
      "source": [
        "custom_colors=['#ff7675', '#74b9ff']\n",
        "\n",
        "plt.figure(figsize=(2,2), dpi=227)\n",
        "plt.pie(sizes, labels=category_names, textprops={'fontsize': 6}, startangle=90,\n",
        "        autopct='%1.0f%%', colors=custom_colors, explode=[0, 0.1])\n",
        "plt.show()"
      ],
      "execution_count": 31,
      "outputs": [
        {
          "output_type": "display_data",
          "data": {
            "image/png": "[encoded data removed]",
            "text/plain": [
              "<Figure size 454x454 with 1 Axes>"
            ]
          },
          "metadata": {
            "tags": []
          }
        }
      ]
    },
    {
      "cell_type": "code",
      "metadata": {
        "colab": {
          "base_uri": "https://localhost:8080/",
          "height": 405
        },
        "id": "0TV85ThCD0vQ",
        "outputId": "c08a4315-4c32-4079-fc61-f603ce3b4844"
      },
      "source": [
        "plt.figure(figsize=(2,2), dpi=227)\n",
        "plt.pie(sizes, labels=category_names, textprops={'fontsize': 6}, startangle=90,\n",
        "        autopct='%1.0f%%', colors=custom_colors, pctdistance=0.8)\n",
        "\n",
        "# draw circle\n",
        "center_circle = plt.Circle((0,0), radius=0.6, fc='white')\n",
        "plt.gca().add_artist(center_circle)\n",
        "plt.show()"
      ],
      "execution_count": 32,
      "outputs": [
        {
          "output_type": "display_data",
          "data": {
            "image/png": "[encoded data removed]",
            "text/plain": [
              "<Figure size 454x454 with 1 Axes>"
            ]
          },
          "metadata": {
            "tags": []
          }
        }
      ]
    },
    {
      "cell_type": "code",
      "metadata": {
        "colab": {
          "base_uri": "https://localhost:8080/",
          "height": 405
        },
        "id": "zHZRgRM8EdRr",
        "outputId": "9acc03f2-6330-41eb-da7f-a1455f7d7141"
      },
      "source": [
        "category_names = ['Spam', \"Legit Mail\", 'Updates', 'Promotions']\n",
        "sizes = [25, 43, 19, 22]\n",
        "custom_colors=['#ff7675', '#74b9ff', '#55efc4', '#ffeaa7']\n",
        "offset = [0.05, 0.05, 0.05, 0.05]\n",
        "\n",
        "plt.figure(figsize=(2,2), dpi=227)\n",
        "plt.pie(sizes, labels=category_names, textprops={'fontsize': 6}, startangle=90,\n",
        "        autopct='%1.0f%%', colors=custom_colors, pctdistance=0.8, explode=offset)\n",
        "\n",
        "# draw circle\n",
        "center_circle = plt.Circle((0,0), radius=0.6, fc='white')\n",
        "plt.gca().add_artist(center_circle)\n",
        "plt.show()"
      ],
      "execution_count": 33,
      "outputs": [
        {
          "output_type": "display_data",
          "data": {
            "image/png": "[encoded data removed]",
            "text/plain": [
              "<Figure size 454x454 with 1 Axes>"
            ]
          },
          "metadata": {
            "tags": []
          }
        }
      ]
    },
    {
      "cell_type": "markdown",
      "metadata": {
        "id": "azx61NvLGFqh"
      },
      "source": [
        "# Natural Language Processing"
      ]
    },
    {
      "cell_type": "markdown",
      "metadata": {
        "id": "1KftcpwJFVt0"
      },
      "source": [
        "### Text Pre-Processing"
      ]
    },
    {
      "cell_type": "code",
      "metadata": {
        "colab": {
          "base_uri": "https://localhost:8080/",
          "height": 0
        },
        "id": "mj1Aq2aQGK_X",
        "outputId": "db958e3e-65b5-4764-d0d3-719755a73032"
      },
      "source": [
        "# convert to lower case\n",
        "msg = \"All work and no play makes Jack a dull boy.\"\n",
        "msg.lower()"
      ],
      "execution_count": 34,
      "outputs": [
        {
          "output_type": "execute_result",
          "data": {
            "application/vnd.google.colaboratory.intrinsic+json": {
              "type": "string"
            },
            "text/plain": [
              "'all work and no play makes jack a dull boy.'"
            ]
          },
          "metadata": {
            "tags": []
          },
          "execution_count": 34
        }
      ]
    },
    {
      "cell_type": "markdown",
      "metadata": {
        "id": "eZKq7GgPGLw-"
      },
      "source": [
        "### Download the NLTK Resources (Tokenizer & Stopwords)"
      ]
    },
    {
      "cell_type": "code",
      "metadata": {
        "colab": {
          "base_uri": "https://localhost:8080/"
        },
        "id": "btdHACJnG_m8",
        "outputId": "1881f042-a8ed-4f9e-c2f6-056fde32d4c9"
      },
      "source": [
        "nltk.download('punkt')"
      ],
      "execution_count": 35,
      "outputs": [
        {
          "output_type": "stream",
          "text": [
            "[nltk_data] Downloading package punkt to /root/nltk_data...\n",
            "[nltk_data]   Unzipping tokenizers/punkt.zip.\n"
          ],
          "name": "stdout"
        },
        {
          "output_type": "execute_result",
          "data": {
            "text/plain": [
              "True"
            ]
          },
          "metadata": {
            "tags": []
          },
          "execution_count": 35
        }
      ]
    },
    {
      "cell_type": "code",
      "metadata": {
        "colab": {
          "base_uri": "https://localhost:8080/"
        },
        "id": "P9weMLReHym6",
        "outputId": "ede56fd5-1418-4218-9746-af4a2df1b03c"
      },
      "source": [
        "nltk.download('stopwords')"
      ],
      "execution_count": 36,
      "outputs": [
        {
          "output_type": "stream",
          "text": [
            "[nltk_data] Downloading package stopwords to /root/nltk_data...\n",
            "[nltk_data]   Unzipping corpora/stopwords.zip.\n"
          ],
          "name": "stdout"
        },
        {
          "output_type": "execute_result",
          "data": {
            "text/plain": [
              "True"
            ]
          },
          "metadata": {
            "tags": []
          },
          "execution_count": 36
        }
      ]
    },
    {
      "cell_type": "markdown",
      "metadata": {
        "id": "hRe5yxwJHF0y"
      },
      "source": [
        "## Tokenizing"
      ]
    },
    {
      "cell_type": "code",
      "metadata": {
        "colab": {
          "base_uri": "https://localhost:8080/"
        },
        "id": "ZOh5JyfuHHtQ",
        "outputId": "8f45ff5b-c44f-4317-b90e-6213656a07a6"
      },
      "source": [
        "msg = \"All work and no play makes Jack a dull boy.\"\n",
        "word_tokenize(msg.lower())"
      ],
      "execution_count": 37,
      "outputs": [
        {
          "output_type": "execute_result",
          "data": {
            "text/plain": [
              "['all', 'work', 'and', 'no', 'play', 'makes', 'jack', 'a', 'dull', 'boy', '.']"
            ]
          },
          "metadata": {
            "tags": []
          },
          "execution_count": 37
        }
      ]
    },
    {
      "cell_type": "markdown",
      "metadata": {
        "id": "wtUGe8X6HVdT"
      },
      "source": [
        "## Removing Stop Words"
      ]
    },
    {
      "cell_type": "code",
      "metadata": {
        "colab": {
          "base_uri": "https://localhost:8080/"
        },
        "id": "SFHvYF2dHf_y",
        "outputId": "417ad735-1582-42a8-d456-ffc0d65e92d5"
      },
      "source": [
        "stop_words = set(stopwords.words('english'))\n",
        "type(stop_words)"
      ],
      "execution_count": 38,
      "outputs": [
        {
          "output_type": "execute_result",
          "data": {
            "text/plain": [
              "set"
            ]
          },
          "metadata": {
            "tags": []
          },
          "execution_count": 38
        }
      ]
    },
    {
      "cell_type": "code",
      "metadata": {
        "colab": {
          "base_uri": "https://localhost:8080/"
        },
        "id": "8XpIVnPTHfll",
        "outputId": "40c6ac68-39cc-47b4-8108-8a1941bc8a1e"
      },
      "source": [
        "if 'this' in stop_words: print('Found it!')"
      ],
      "execution_count": 39,
      "outputs": [
        {
          "output_type": "stream",
          "text": [
            "Found it!\n"
          ],
          "name": "stdout"
        }
      ]
    },
    {
      "cell_type": "code",
      "metadata": {
        "colab": {
          "base_uri": "https://localhost:8080/"
        },
        "id": "AyBQ4pzKHe0m",
        "outputId": "fc05bbf2-6032-4b92-e5b1-64ff67675f7c"
      },
      "source": [
        "if 'hello' not in stop_words: print('Nope, not in here!')"
      ],
      "execution_count": 40,
      "outputs": [
        {
          "output_type": "stream",
          "text": [
            "Nope, not in here!\n"
          ],
          "name": "stdout"
        }
      ]
    },
    {
      "cell_type": "code",
      "metadata": {
        "colab": {
          "base_uri": "https://localhost:8080/"
        },
        "id": "lJTVtTN5I0sK",
        "outputId": "c779ff0f-3c99-4be6-96a2-6eb085499257"
      },
      "source": [
        "msg = \"All work and no play makes Jack a dull boy. To be or not to be.\"\n",
        "words = word_tokenize(msg.lower())\n",
        "\n",
        "filtered_words = [word for word in words if word not in stop_words]\n",
        "filtered_words\n"
      ],
      "execution_count": 41,
      "outputs": [
        {
          "output_type": "execute_result",
          "data": {
            "text/plain": [
              "['work', 'play', 'makes', 'jack', 'dull', 'boy', '.', '.']"
            ]
          },
          "metadata": {
            "tags": []
          },
          "execution_count": 41
        }
      ]
    },
    {
      "cell_type": "markdown",
      "metadata": {
        "id": "dB362gu4JUa2"
      },
      "source": [
        "## Word Stems and Stemming"
      ]
    },
    {
      "cell_type": "code",
      "metadata": {
        "colab": {
          "base_uri": "https://localhost:8080/"
        },
        "id": "SpH7PDEBXAVn",
        "outputId": "7a1d2b46-1f43-4fe8-bc1a-0f61262bd02b"
      },
      "source": [
        "msg = \"All work and no play makes Jack a dull boy. To be or not to be. \\\n",
        "        Nobody expects the Spanish Inquisition!\"\n",
        "words = word_tokenize(msg.lower())\n",
        "\n",
        "stemmer = PorterStemmer()\n",
        "\n",
        "filtered_words = []\n",
        "for word in words:\n",
        "    if word not in stop_words:\n",
        "        stemmed_word = stemmer.stem(word)\n",
        "        filtered_words.append(stemmed_word)\n",
        "\n",
        "print(filtered_words)"
      ],
      "execution_count": 42,
      "outputs": [
        {
          "output_type": "stream",
          "text": [
            "['work', 'play', 'make', 'jack', 'dull', 'boy', '.', '.', 'nobodi', 'expect', 'spanish', 'inquisit', '!']\n"
          ],
          "name": "stdout"
        }
      ]
    },
    {
      "cell_type": "markdown",
      "metadata": {
        "id": "DDTmWyiBXlUN"
      },
      "source": [
        "### Removing Punctuation"
      ]
    },
    {
      "cell_type": "code",
      "metadata": {
        "colab": {
          "base_uri": "https://localhost:8080/"
        },
        "id": "dbwLa35MYQ0l",
        "outputId": "0d85ed9f-ac0b-4b7b-eb68-8ce4b010d851"
      },
      "source": [
        "msg = \"All work and no play makes Jack a dull boy. To be or not to be. \\\n",
        "        Nobody expects the Spanish Inquisition!\"\n",
        "words = word_tokenize(msg.lower())\n",
        "\n",
        "stemmer = PorterStemmer()\n",
        "\n",
        "filtered_words = []\n",
        "for word in words:\n",
        "    if word not in stop_words and word.isalpha():\n",
        "        stemmed_word = stemmer.stem(word)\n",
        "        filtered_words.append(stemmed_word)\n",
        "\n",
        "print(filtered_words)"
      ],
      "execution_count": 43,
      "outputs": [
        {
          "output_type": "stream",
          "text": [
            "['work', 'play', 'make', 'jack', 'dull', 'boy', 'nobodi', 'expect', 'spanish', 'inquisit']\n"
          ],
          "name": "stdout"
        }
      ]
    },
    {
      "cell_type": "markdown",
      "metadata": {
        "id": "PCQYSlrwZreU"
      },
      "source": [
        "# Removing HTML tags from Emails"
      ]
    },
    {
      "cell_type": "code",
      "metadata": {
        "colab": {
          "base_uri": "https://localhost:8080/"
        },
        "id": "PUqCx5QOYcy2",
        "outputId": "9b16566a-eb22-4f00-ecff-8632158e3814"
      },
      "source": [
        "soup = BeautifulSoup(data.at[1, 'MESSAGE'], 'html.parser')\n",
        "print(soup.prettify())"
      ],
      "execution_count": 44,
      "outputs": [
        {
          "output_type": "stream",
          "text": [
            "<html>\n",
            " <head>\n",
            " </head>\n",
            " <body>\n",
            "  <center>\n",
            "   <font color='3D\"#000000\"' face='3D\"times\"' size='3D\"6\"'>\n",
            "    Save up to\n",
            "    <font color='3D\"#ff0000\"'>\n",
            "     75%\n",
            "    </font>\n",
            "    on your Term Life\n",
            "\n",
            "Insurance!\n",
            "   </font>\n",
            "   <br/>\n",
            "   <font color='3D\"#000000\"' face='3D\"times\"' size='3D\"4\"'>\n",
            "    <i>\n",
            "     Compare rates from top insurance companies around\n",
            "\n",
            "the country\n",
            "    </i>\n",
            "   </font>\n",
            "   <br/>\n",
            "   <br/>\n",
            "   <font color='3D\"#7084D6\"' face='3D\"arial\"' size='3D\"4\"'>\n",
            "    <b>\n",
            "     In our life and times, it's important to plan for\n",
            "\n",
            "your family's future, while\n",
            "     <br/>\n",
            "     being comfortable financially.  Choose the right\n",
            "\n",
            "Life Insurance policy today.\n",
            "    </b>\n",
            "   </font>\n",
            "   <p>\n",
            "    <font color='3D\"#000000\"' face='3D\"arial\"' size='3D\"3\"'>\n",
            "     <i>\n",
            "      Click the link below to compare the lowest rates\n",
            "\n",
            "and save up to\n",
            "      <font color='3D\"#ff0000\"'>\n",
            "       75%\n",
            "      </font>\n",
            "     </i>\n",
            "    </font>\n",
            "   </p>\n",
            "  </center>\n",
            " </body>\n",
            "</html>\n",
            "<p>\n",
            " <a href='3D\"http://insurancequotesource.com/user0202/termquotes/473400/\"'>\n",
            "  <font face='3D\"arial\"' size='3D\"4\"'>\n",
            "   <b>\n",
            "    COMPARE YOUR COVERAGE\n",
            "   </b>\n",
            "  </font>\n",
            " </a>\n",
            " <p>\n",
            "  <font color='3D\"#000000\"' face='3D\"times\"' size='3D\"5\"'>\n",
            "   You'll be able to compare rates and get a free\n",
            "\n",
            "application in\n",
            "   <i>\n",
            "    less than a minute!\n",
            "   </i>\n",
            "  </font>\n",
            "  <p>\n",
            "   <font color='3D\"#ff0000\"' face='3D\"arial\"' size='3D\"5\"'>\n",
            "    <b>\n",
            "     *Get your FREE instant quotes...\n",
            "     <br/>\n",
            "     *Compare the lowest prices, then...\n",
            "     <br/>\n",
            "     *Select a company and Apply Online.\n",
            "    </b>\n",
            "   </font>\n",
            "   <p>\n",
            "    <a \"=\"\" href='3D\"http://insurancequotesource.com/user0202/termquotes/473400/'>\n",
            "     <font face='3D\"arial\"' size='3D\"5\"'>\n",
            "      <b>\n",
            "       GET A FREE QUOTE NOW!\n",
            "      </b>\n",
            "     </font>\n",
            "    </a>\n",
            "    <br/>\n",
            "    <font color='3D\"#000000\"' face='3D\"arial\"' size='3D\"2\"'>\n",
            "     <i>\n",
            "      You can't predict the future, but you can always\n",
            "\n",
            "prepare for it.\n",
            "     </i>\n",
            "    </font>\n",
            "   </p>\n",
            "  </p>\n",
            " </p>\n",
            "</p>\n",
            "<br/>\n",
            "<br/>\n",
            "<font color='3D\"#8182AB\"' face='3D\"arial,verdana\"' size=\"3D1.5\">\n",
            " <p align='3D\"center\"'>\n",
            "  <br/>\n",
            "  <br/>\n",
            "  <a href='3D\"http://marketing-fashion.com/light/watch.asp\"'>\n",
            "   to be\n",
            "\n",
            "excluded from future contacts\n",
            "  </a>\n",
            " </p>\n",
            "</font>\n",
            "graham_adlam\n",
            "\n"
          ],
          "name": "stdout"
        }
      ]
    },
    {
      "cell_type": "code",
      "metadata": {
        "colab": {
          "base_uri": "https://localhost:8080/",
          "height": 103
        },
        "id": "4Z1IKNzkZdHc",
        "outputId": "6828a5c3-f29b-4736-f591-4a1e748ad199"
      },
      "source": [
        "soup.get_text()"
      ],
      "execution_count": 45,
      "outputs": [
        {
          "output_type": "execute_result",
          "data": {
            "application/vnd.google.colaboratory.intrinsic+json": {
              "type": "string"
            },
            "text/plain": [
              "\"\\n\\n\\n\\n\\nSave up to\\n\\n\\n\\n75% on your Term Life\\n\\nInsurance!\\n\\n\\nCompare rates from top insurance companies around\\n\\nthe country\\n\\n\\nIn our life and times, it's important to plan for\\n\\nyour family's future, while \\n\\nbeing comfortable financially.  Choose the right\\n\\nLife Insurance policy today.\\n\\n\\nClick the link below to compare the lowest rates\\n\\nand save up to 75%\\n\\n\\nCOMPARE YOUR COVERAGE\\n\\n\\n\\nYou'll be able to compare rates and get a free\\n\\napplication in less than a minute!\\n\\n\\n*Get your FREE instant quotes...\\n\\n*Compare the lowest prices, then...\\n\\n*Select a company and Apply Online.\\n\\n\\nGET A FREE QUOTE NOW!\\n\\n\\nYou can't predict the future, but you can always\\n\\nprepare for it.\\n\\n\\nto be\\n\\nexcluded from future contacts \\n\\n\\n\\ngraham_adlam\\n\\n\\n\\n\\n\\n\\n\\n\\n\\n\\n\""
            ]
          },
          "metadata": {
            "tags": []
          },
          "execution_count": 45
        }
      ]
    },
    {
      "cell_type": "markdown",
      "metadata": {
        "id": "Xf_aeuaTagd8"
      },
      "source": [
        "## Functions for Email Processing"
      ]
    },
    {
      "cell_type": "code",
      "metadata": {
        "id": "Q-rBxYXnask2"
      },
      "source": [
        "def clean_message(message, stemmer=PorterStemmer(), \n",
        "                  stop_words=set(stopwords.words('english'))):\n",
        "    \n",
        "    words = word_tokenize(message.lower())\n",
        "    filtered_words = []\n",
        "\n",
        "    for word in words:\n",
        "        if word not in stop_words and word.isalpha:\n",
        "            filtered_words.append(stemmer.stem(word))\n",
        "\n",
        "    return filtered_words"
      ],
      "execution_count": 46,
      "outputs": []
    },
    {
      "cell_type": "code",
      "metadata": {
        "id": "zl_HyotxbNvb"
      },
      "source": [
        "def clean_message_no_html(message, stemmer=PorterStemmer(), \n",
        "                  stop_words=set(stopwords.words('english'))):\n",
        "    soup = BeautifulSoup(message, 'html.parser')\n",
        "    words = word_tokenize(soup.get_text().lower())\n",
        "    filtered_words = []\n",
        "\n",
        "    for word in words:\n",
        "        if word not in stop_words and word.isalpha():\n",
        "            filtered_words.append(stemmer.stem(word))\n",
        "\n",
        "    return filtered_words"
      ],
      "execution_count": 47,
      "outputs": []
    },
    {
      "cell_type": "code",
      "metadata": {
        "colab": {
          "base_uri": "https://localhost:8080/"
        },
        "id": "KOi0Zh5YbS3l",
        "outputId": "85803605-bdf4-4c1f-c2d2-428c08e1530d"
      },
      "source": [
        "clean_message_no_html(data.at[2, 'MESSAGE'])"
      ],
      "execution_count": 48,
      "outputs": [
        {
          "output_type": "execute_result",
          "data": {
            "text/plain": [
              "['urgent',\n",
              " 'privat',\n",
              " 'extrem',\n",
              " 'confidenti',\n",
              " 'dear',\n",
              " 'profound',\n",
              " 'interest',\n",
              " 'utmost',\n",
              " 'solicit',\n",
              " 'immedi',\n",
              " 'assist',\n",
              " 'enabl',\n",
              " 'us',\n",
              " 'round',\n",
              " 'opportun',\n",
              " 'within',\n",
              " 'capabl',\n",
              " 'result',\n",
              " 'death',\n",
              " 'one',\n",
              " 'contractor',\n",
              " 'surpris',\n",
              " 'got',\n",
              " 'highli',\n",
              " 'recommend',\n",
              " 'believ',\n",
              " 'trustworthi',\n",
              " 'bello',\n",
              " 'chief',\n",
              " 'special',\n",
              " 'project',\n",
              " 'foreign',\n",
              " 'contract',\n",
              " 'regular',\n",
              " 'offic',\n",
              " 'auditor',\n",
              " 'gener',\n",
              " 'feder',\n",
              " 'feder',\n",
              " 'republ',\n",
              " 'work',\n",
              " 'hand',\n",
              " 'senat',\n",
              " 'committe',\n",
              " 'foreign',\n",
              " 'contract',\n",
              " 'duti',\n",
              " 'ensur',\n",
              " 'contractor',\n",
              " 'paid',\n",
              " 'contract',\n",
              " 'sum',\n",
              " 'due',\n",
              " 'last',\n",
              " 'payment',\n",
              " 'total',\n",
              " 'contractor',\n",
              " 'short',\n",
              " 'list',\n",
              " 'payment',\n",
              " 'paid',\n",
              " 'remain',\n",
              " 'inform',\n",
              " 'reach',\n",
              " 'offic',\n",
              " 'indic',\n",
              " 'one',\n",
              " 'among',\n",
              " 'remain',\n",
              " 'report',\n",
              " 'name',\n",
              " 'gerrand',\n",
              " 'schwartz',\n",
              " 'die',\n",
              " 'last',\n",
              " 'air',\n",
              " 'franc',\n",
              " 'concord',\n",
              " 'plane',\n",
              " 'meanwhil',\n",
              " 'finish',\n",
              " 'execut',\n",
              " 'contract',\n",
              " 'decemb',\n",
              " 'sinc',\n",
              " 'nobodi',\n",
              " 'come',\n",
              " 'forward',\n",
              " 'put',\n",
              " 'claim',\n",
              " 'contract',\n",
              " 'fund',\n",
              " 'us',\n",
              " 'million',\n",
              " 'million',\n",
              " 'five',\n",
              " 'hundr',\n",
              " 'thousand',\n",
              " 'need',\n",
              " 'immedi',\n",
              " 'assist',\n",
              " 'expedit',\n",
              " 'transfer',\n",
              " 'contract',\n",
              " 'posit',\n",
              " 'director',\n",
              " 'depart',\n",
              " 'contract',\n",
              " 'regularis',\n",
              " 'regular',\n",
              " 'necessari',\n",
              " 'document',\n",
              " 'present',\n",
              " 'compani',\n",
              " 'beneficiari',\n",
              " 'fund',\n",
              " 'much',\n",
              " 'respond',\n",
              " 'within',\n",
              " 'hour',\n",
              " 'respect',\n",
              " 'import',\n",
              " 'unreserv',\n",
              " 'cooper',\n",
              " 'busi',\n",
              " 'requir',\n",
              " 'success',\n",
              " 'hitch',\n",
              " 'free',\n",
              " 'necessari',\n",
              " 'measur',\n",
              " 'ensur',\n",
              " 'risk',\n",
              " 'free',\n",
              " 'fool',\n",
              " 'proof',\n",
              " 'transact',\n",
              " 'confidenti',\n",
              " 'kindli',\n",
              " 'signifi',\n",
              " 'interest',\n",
              " 'repli',\n",
              " 'via',\n",
              " 'person',\n",
              " 'e',\n",
              " 'address',\n",
              " 'upon',\n",
              " 'receipt',\n",
              " 'posit',\n",
              " 'repli',\n",
              " 'shall',\n",
              " 'discuss',\n",
              " 'basic',\n",
              " 'program',\n",
              " 'oper',\n",
              " 'financi',\n",
              " 'statu',\n",
              " 'ascertain',\n",
              " 'upon',\n",
              " 'complet',\n",
              " 'transact',\n",
              " 'decid',\n",
              " 'give',\n",
              " 'total',\n",
              " 'fund',\n",
              " 'share',\n",
              " 'use',\n",
              " 'invest',\n",
              " 'compani',\n",
              " 'compani',\n",
              " 'map',\n",
              " 'take',\n",
              " 'care',\n",
              " 'minor',\n",
              " 'expens',\n",
              " 'take',\n",
              " 'note',\n",
              " 'project',\n",
              " 'last',\n",
              " 'work',\n",
              " 'expect',\n",
              " 'respons',\n",
              " 'time',\n",
              " 'time',\n",
              " 'great',\n",
              " 'essenc',\n",
              " 'god',\n",
              " 'bless',\n",
              " 'kind',\n",
              " 'bello',\n",
              " 'ahm',\n",
              " 'attach']"
            ]
          },
          "metadata": {
            "tags": []
          },
          "execution_count": 48
        }
      ]
    },
    {
      "cell_type": "markdown",
      "metadata": {
        "id": "7sopjTr_cJWF"
      },
      "source": [
        "# Apply Cleaning and Tokenisation to all messages"
      ]
    },
    {
      "cell_type": "markdown",
      "metadata": {
        "id": "U3vHj1-Mejbk"
      },
      "source": [
        "### Slicing Dataframes and Series & Creating Subsets"
      ]
    },
    {
      "cell_type": "code",
      "metadata": {
        "colab": {
          "base_uri": "https://localhost:8080/",
          "height": 35
        },
        "id": "XYfGPgSyoncp",
        "outputId": "ead514ca-cd70-4947-fa0b-a47f0759c92e"
      },
      "source": [
        "data.iat[2,2]"
      ],
      "execution_count": 53,
      "outputs": [
        {
          "output_type": "execute_result",
          "data": {
            "application/vnd.google.colaboratory.intrinsic+json": {
              "type": "string"
            },
            "text/plain": [
              "'00022.8203cdf03888f656dc0381701148f73d'"
            ]
          },
          "metadata": {
            "tags": []
          },
          "execution_count": 53
        }
      ]
    },
    {
      "cell_type": "code",
      "metadata": {
        "colab": {
          "base_uri": "https://localhost:8080/",
          "height": 266
        },
        "id": "aU0QtlJdovLM",
        "outputId": "d9bc7d8e-b102-4f32-dc68-07de366f0b24"
      },
      "source": [
        "data.iloc[5:11]"
      ],
      "execution_count": 56,
      "outputs": [
        {
          "output_type": "execute_result",
          "data": {
            "text/html": [
              "<div>\n",
              "<style scoped>\n",
              "    .dataframe tbody tr th:only-of-type {\n",
              "        vertical-align: middle;\n",
              "    }\n",
              "\n",
              "    .dataframe tbody tr th {\n",
              "        vertical-align: top;\n",
              "    }\n",
              "\n",
              "    .dataframe thead th {\n",
              "        text-align: right;\n",
              "    }\n",
              "</style>\n",
              "<table border=\"1\" class=\"dataframe\">\n",
              "  <thead>\n",
              "    <tr style=\"text-align: right;\">\n",
              "      <th></th>\n",
              "      <th>MESSAGE</th>\n",
              "      <th>CATEGORY</th>\n",
              "      <th>FILE_NAME</th>\n",
              "    </tr>\n",
              "    <tr>\n",
              "      <th>DOC_ID</th>\n",
              "      <th></th>\n",
              "      <th></th>\n",
              "      <th></th>\n",
              "    </tr>\n",
              "  </thead>\n",
              "  <tbody>\n",
              "    <tr>\n",
              "      <th>5</th>\n",
              "      <td>&lt;HTML&gt;\\n\\n&lt;HEAD&gt;\\n\\n&lt;/HEAD&gt;\\n\\n&lt;BODY&gt;\\n\\n&lt;FONT...</td>\n",
              "      <td>1</td>\n",
              "      <td>00350.c2658f17a328efdf045b38ab38db472f</td>\n",
              "    </tr>\n",
              "    <tr>\n",
              "      <th>6</th>\n",
              "      <td>WERKEN BIJ DE LOTTO,\\n\\n41132, NL-1007 DB AMST...</td>\n",
              "      <td>1</td>\n",
              "      <td>00362.be7a346be8746732d4dc27bc549d7441</td>\n",
              "    </tr>\n",
              "    <tr>\n",
              "      <th>7</th>\n",
              "      <td>&lt;HTML&gt;\\n\\n&lt;BODY&gt;\\n\\n&lt;meta http-equiv=\"Content-...</td>\n",
              "      <td>1</td>\n",
              "      <td>00300.834f370a21ca4f1774d5724b5443411c</td>\n",
              "    </tr>\n",
              "    <tr>\n",
              "      <th>8</th>\n",
              "      <td>Mr.Vincent Nnaji,\\n\\n Standard Trust Bank Ltd,...</td>\n",
              "      <td>1</td>\n",
              "      <td>00465.ca5d79d0e5dadee322c117789196ebb4</td>\n",
              "    </tr>\n",
              "    <tr>\n",
              "      <th>9</th>\n",
              "      <td>*** FREE BONUS OFFER - SEE BELOW ***\\n\\n\\n\\nWe...</td>\n",
              "      <td>1</td>\n",
              "      <td>00301.68fe7955b96d085360ca916289e8e716</td>\n",
              "    </tr>\n",
              "    <tr>\n",
              "      <th>10</th>\n",
              "      <td>------000000000000000000000\\n\\nContent-Type: t...</td>\n",
              "      <td>1</td>\n",
              "      <td>00334.a1038f98abb76b403d068afb57bfb290</td>\n",
              "    </tr>\n",
              "  </tbody>\n",
              "</table>\n",
              "</div>"
            ],
            "text/plain": [
              "                                                  MESSAGE  ...                               FILE_NAME\n",
              "DOC_ID                                                     ...                                        \n",
              "5       <HTML>\\n\\n<HEAD>\\n\\n</HEAD>\\n\\n<BODY>\\n\\n<FONT...  ...  00350.c2658f17a328efdf045b38ab38db472f\n",
              "6       WERKEN BIJ DE LOTTO,\\n\\n41132, NL-1007 DB AMST...  ...  00362.be7a346be8746732d4dc27bc549d7441\n",
              "7       <HTML>\\n\\n<BODY>\\n\\n<meta http-equiv=\"Content-...  ...  00300.834f370a21ca4f1774d5724b5443411c\n",
              "8       Mr.Vincent Nnaji,\\n\\n Standard Trust Bank Ltd,...  ...  00465.ca5d79d0e5dadee322c117789196ebb4\n",
              "9       *** FREE BONUS OFFER - SEE BELOW ***\\n\\n\\n\\nWe...  ...  00301.68fe7955b96d085360ca916289e8e716\n",
              "10      ------000000000000000000000\\n\\nContent-Type: t...  ...  00334.a1038f98abb76b403d068afb57bfb290\n",
              "\n",
              "[6 rows x 3 columns]"
            ]
          },
          "metadata": {
            "tags": []
          },
          "execution_count": 56
        }
      ]
    },
    {
      "cell_type": "code",
      "metadata": {
        "id": "peVx-1Zxo7wy"
      },
      "source": [
        "first_emails = data.MESSAGE.iloc[0:3]\n",
        "\n",
        "nested_list = first_emails.apply(clean_message_no_html)"
      ],
      "execution_count": 60,
      "outputs": []
    },
    {
      "cell_type": "code",
      "metadata": {
        "colab": {
          "base_uri": "https://localhost:8080/"
        },
        "id": "vr3_6VfcpGFC",
        "outputId": "f753d634-ca6b-40cd-8ace-78cb7565ed2a"
      },
      "source": [
        "# flat_list = []\n",
        "# for sublist in nested_list:\n",
        "#     for item in sublist:\n",
        "#         flat_list.append(item)\n",
        "\n",
        "flat_list = [item for sublist in nested_list for item in sublist]\n",
        "\n",
        "len(flat_list)"
      ],
      "execution_count": 62,
      "outputs": [
        {
          "output_type": "execute_result",
          "data": {
            "text/plain": [
              "342"
            ]
          },
          "metadata": {
            "tags": []
          },
          "execution_count": 62
        }
      ]
    },
    {
      "cell_type": "code",
      "metadata": {
        "colab": {
          "base_uri": "https://localhost:8080/"
        },
        "id": "ukBvqvnppr9T",
        "outputId": "fcf6e4eb-727f-4f92-df1b-a58a97140912"
      },
      "source": [
        "%%time\n",
        "# use apply() on all the messages in the dataframe\n",
        "nested_list = data.MESSAGE.apply(clean_message_no_html)"
      ],
      "execution_count": 63,
      "outputs": [
        {
          "output_type": "stream",
          "text": [
            "/usr/local/lib/python3.7/dist-packages/bs4/__init__.py:336: UserWarning: \"http://www.post-gazette.com/columnists/20020905brian5\n",
            "\" looks like a URL. Beautiful Soup is not an HTTP client. You should probably use an HTTP client like requests to get the document behind the URL, and feed that document to Beautiful Soup.\n",
            "  ' that document to Beautiful Soup.' % decoded_markup\n"
          ],
          "name": "stderr"
        },
        {
          "output_type": "stream",
          "text": [
            "CPU times: user 35.7 s, sys: 81.5 ms, total: 35.8 s\n",
            "Wall time: 35.9 s\n"
          ],
          "name": "stdout"
        }
      ]
    },
    {
      "cell_type": "code",
      "metadata": {
        "colab": {
          "base_uri": "https://localhost:8080/"
        },
        "id": "1m9vG-mVqPdb",
        "outputId": "8cdd207d-9064-44cd-b946-932214aede02"
      },
      "source": [
        "nested_list.head()"
      ],
      "execution_count": 64,
      "outputs": [
        {
          "output_type": "execute_result",
          "data": {
            "text/plain": [
              "DOC_ID\n",
              "0    [get, favorit, poker, action, http, play, real...\n",
              "1    [save, term, life, insur, compar, rate, top, i...\n",
              "2    [urgent, privat, extrem, confidenti, dear, pro...\n",
              "3    [team, foundmoney, help, locat, claim, lost, c...\n",
              "4    [chase, receiv, mail, member, subscrib, jm, un...\n",
              "Name: MESSAGE, dtype: object"
            ]
          },
          "metadata": {
            "tags": []
          },
          "execution_count": 64
        }
      ]
    },
    {
      "cell_type": "code",
      "metadata": {
        "colab": {
          "base_uri": "https://localhost:8080/"
        },
        "id": "0qIwrUReq2sT",
        "outputId": "b953c082-e5fc-4e7e-8e74-6229ac28b377"
      },
      "source": [
        "nested_list.tail()"
      ],
      "execution_count": 65,
      "outputs": [
        {
          "output_type": "execute_result",
          "data": {
            "text/plain": [
              "DOC_ID\n",
              "5791    [pgp, sign, messag, hash, friday, august, la, ...\n",
              "5792    [sun, jul, che, wrote, server, mention, work, ...\n",
              "5793    [rel, clean, way, dynam, build, comp, file, ba...\n",
              "5794    [fri, jul, wynn, conor, wrote, long, look, lik...\n",
              "5795    [sven, wrote, timeout, hardcod, plan, right, m...\n",
              "Name: MESSAGE, dtype: object"
            ]
          },
          "metadata": {
            "tags": []
          },
          "execution_count": 65
        }
      ]
    },
    {
      "cell_type": "markdown",
      "metadata": {
        "id": "MkxYUbYTq38f"
      },
      "source": [
        "### Using Logic to Slice DataFrames"
      ]
    },
    {
      "cell_type": "code",
      "metadata": {
        "colab": {
          "base_uri": "https://localhost:8080/"
        },
        "id": "cGgk-2rKrD_f",
        "outputId": "6b5f4fe9-53dc-448c-b0d8-5cf3c86127a2"
      },
      "source": [
        "data[data.CATEGORY == 1].shape"
      ],
      "execution_count": 66,
      "outputs": [
        {
          "output_type": "execute_result",
          "data": {
            "text/plain": [
              "(1896, 3)"
            ]
          },
          "metadata": {
            "tags": []
          },
          "execution_count": 66
        }
      ]
    },
    {
      "cell_type": "code",
      "metadata": {
        "colab": {
          "base_uri": "https://localhost:8080/"
        },
        "id": "Ahh5Kt_arKQG",
        "outputId": "d407eb82-1a4e-41a2-ee87-959c162cded8"
      },
      "source": [
        "data[data.CATEGORY == 1].tail"
      ],
      "execution_count": 68,
      "outputs": [
        {
          "output_type": "execute_result",
          "data": {
            "text/plain": [
              "<bound method NDFrame.tail of                                                   MESSAGE  ...                               FILE_NAME\n",
              "DOC_ID                                                     ...                                        \n",
              "0       Get your favorite Poker action at http://www.m...  ...  00093.ca4edc32d2ff8e1dbb5f9c0b15ec435b\n",
              "1       <html>\\n\\n<head>\\n\\n</head>\\n\\n<body>\\n\\n\\n\\n<...  ...  00050.45de99e8c120fddafe7c89fb3de1c14f\n",
              "2       --===_SecAtt_000_1fheucnqggtggp\\n\\nContent-Typ...  ...  00022.8203cdf03888f656dc0381701148f73d\n",
              "3       \\n\\n<html>\\n\\n<body bgcolor=\"#FFFFFF\">\\n\\n<TAB...  ...  00408.22230b84aee00e439ae1938e025d5005\n",
              "4       <META HTTP-EQUIV=\"Content-Type\" CONTENT=\"text/...  ...  00364.11dba84b95e0471927d1ebc8ff0017ef\n",
              "...                                                   ...  ...                                     ...\n",
              "1891    \\n\\n*** Compliance: see notice at bottom of ma...  ...  00125.ea96729a0da6d9025d5178f2d6916e42\n",
              "1892    Dear Sirs,\\n\\nWe know your esteemed company in...  ...  00501.32679091b0520132ad888ef3b134ce48\n",
              "1893    Unbelievable Prices On Cell Phones And Accesso...  ...  00301.3b6fa92db458408d9468360fc034d280\n",
              "1894    \\n\\n<HTML>\\n\\n<BODY>\\n\\n\\n\\nOWN YOUR VERY OWN ...  ...  00012.cb9c9f2a25196f5b16512338625a85b4\n",
              "1895    =3Chtml=3E=3Chead=3E=3Cmeta http-equiv=3DConte...  ...  01050.f18a04fd3f7cf3e60483c3420bff5417\n",
              "\n",
              "[1896 rows x 3 columns]>"
            ]
          },
          "metadata": {
            "tags": []
          },
          "execution_count": 68
        }
      ]
    },
    {
      "cell_type": "code",
      "metadata": {
        "id": "nJtBEvfArORF"
      },
      "source": [
        "doc_ids_spam = data[data.CATEGORY == 1].index\n",
        "doc_ids_ham = data[data.CATEGORY == 0].index"
      ],
      "execution_count": 70,
      "outputs": []
    },
    {
      "cell_type": "markdown",
      "metadata": {
        "id": "Htp2cOWPry1B"
      },
      "source": [
        "### Subsetting A Series with an Index"
      ]
    },
    {
      "cell_type": "code",
      "metadata": {
        "id": "nrShG_qEsD_V"
      },
      "source": [
        "nested_list_ham = nested_list.loc[doc_ids_ham]"
      ],
      "execution_count": 71,
      "outputs": []
    },
    {
      "cell_type": "code",
      "metadata": {
        "colab": {
          "base_uri": "https://localhost:8080/"
        },
        "id": "n4-wQAIusOCj",
        "outputId": "aeea8821-ee15-4b0e-b062-35da0194ccb6"
      },
      "source": [
        "nested_list_ham.shape"
      ],
      "execution_count": 74,
      "outputs": [
        {
          "output_type": "execute_result",
          "data": {
            "text/plain": [
              "(3900,)"
            ]
          },
          "metadata": {
            "tags": []
          },
          "execution_count": 74
        }
      ]
    },
    {
      "cell_type": "code",
      "metadata": {
        "colab": {
          "base_uri": "https://localhost:8080/"
        },
        "id": "xBcWexXksPW4",
        "outputId": "683ef53d-34ca-4005-9415-933f3c763fa5"
      },
      "source": [
        "nested_list_ham.tail()"
      ],
      "execution_count": 75,
      "outputs": [
        {
          "output_type": "execute_result",
          "data": {
            "text/plain": [
              "DOC_ID\n",
              "5791    [pgp, sign, messag, hash, friday, august, la, ...\n",
              "5792    [sun, jul, che, wrote, server, mention, work, ...\n",
              "5793    [rel, clean, way, dynam, build, comp, file, ba...\n",
              "5794    [fri, jul, wynn, conor, wrote, long, look, lik...\n",
              "5795    [sven, wrote, timeout, hardcod, plan, right, m...\n",
              "Name: MESSAGE, dtype: object"
            ]
          },
          "metadata": {
            "tags": []
          },
          "execution_count": 75
        }
      ]
    },
    {
      "cell_type": "code",
      "metadata": {
        "id": "oARUlZ0zsUle"
      },
      "source": [
        "nested_list_spam = nested_list.loc[doc_ids_spam]"
      ],
      "execution_count": 76,
      "outputs": []
    },
    {
      "cell_type": "code",
      "metadata": {
        "colab": {
          "base_uri": "https://localhost:8080/"
        },
        "id": "-qkMj3JKsZji",
        "outputId": "c206df3b-8031-4759-9f1c-6fe6890dda26"
      },
      "source": [
        "flat_list_ham = [word for sublist in nested_list_ham for word in sublist]\n",
        "normal_words = pd.Series(flat_list_ham).value_counts()\n",
        "\n",
        "normal_words.shape[0] # total number of unique words in the non-spam messages"
      ],
      "execution_count": 85,
      "outputs": [
        {
          "output_type": "execute_result",
          "data": {
            "text/plain": [
              "20744"
            ]
          },
          "metadata": {
            "tags": []
          },
          "execution_count": 85
        }
      ]
    },
    {
      "cell_type": "code",
      "metadata": {
        "colab": {
          "base_uri": "https://localhost:8080/"
        },
        "id": "dqTfLIHPs8RJ",
        "outputId": "0ee19b26-510e-4455-833a-d30edc2e25bc"
      },
      "source": [
        "normal_words[:10]"
      ],
      "execution_count": 86,
      "outputs": [
        {
          "output_type": "execute_result",
          "data": {
            "text/plain": [
              "http      7561\n",
              "use       3630\n",
              "list      2878\n",
              "one       2371\n",
              "get       2284\n",
              "mail      2255\n",
              "would     2003\n",
              "like      1928\n",
              "messag    1847\n",
              "work      1798\n",
              "dtype: int64"
            ]
          },
          "metadata": {
            "tags": []
          },
          "execution_count": 86
        }
      ]
    },
    {
      "cell_type": "code",
      "metadata": {
        "colab": {
          "base_uri": "https://localhost:8080/"
        },
        "id": "Bg-DGp_YtuMl",
        "outputId": "4c4c3d8d-3581-4b7e-aaf2-62719366e8ff"
      },
      "source": [
        "flat_list_spam = [word for sublist in nested_list_spam for word in sublist]\n",
        "spammy_words = pd.Series(flat_list_spam).value_counts()\n",
        "\n",
        "spammy_words.shape[0] # total number of unique words in the non-spam messages"
      ],
      "execution_count": 89,
      "outputs": [
        {
          "output_type": "execute_result",
          "data": {
            "text/plain": [
              "13280"
            ]
          },
          "metadata": {
            "tags": []
          },
          "execution_count": 89
        }
      ]
    },
    {
      "cell_type": "code",
      "metadata": {
        "colab": {
          "base_uri": "https://localhost:8080/"
        },
        "id": "CavRshhhvKJx",
        "outputId": "119f5380-667e-43a1-93b5-fe7d5d84392e"
      },
      "source": [
        "spammy_words[:10]"
      ],
      "execution_count": 90,
      "outputs": [
        {
          "output_type": "execute_result",
          "data": {
            "text/plain": [
              "http      3101\n",
              "email     3094\n",
              "free      2555\n",
              "click     2058\n",
              "receiv    1987\n",
              "list      1974\n",
              "get       1903\n",
              "pleas     1842\n",
              "busi      1792\n",
              "order     1743\n",
              "dtype: int64"
            ]
          },
          "metadata": {
            "tags": []
          },
          "execution_count": 90
        }
      ]
    },
    {
      "cell_type": "code",
      "metadata": {
        "id": "qTQeCU9bvTCS"
      },
      "source": [
        ""
      ],
      "execution_count": null,
      "outputs": []
    }
  ]
}